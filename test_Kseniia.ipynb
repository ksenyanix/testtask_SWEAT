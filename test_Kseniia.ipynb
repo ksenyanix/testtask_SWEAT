{
 "cells": [
  {
   "cell_type": "markdown",
   "metadata": {},
   "source": [
    "Determine whether there is an increase in activity level among users after installing Sweatcoin app.\n",
    "\\\n",
    "Data Anlysis by Kseniia Nikulina"
   ]
  },
  {
   "cell_type": "code",
   "execution_count": 228,
   "metadata": {},
   "outputs": [],
   "source": [
    "# Importing necessary libraries\n",
    "import pandas as pd\n",
    "import matplotlib.pyplot as plt\n",
    "import numpy as np\n",
    "from scipy.stats import shapiro\n",
    "from scipy.stats import wilcoxon"
   ]
  },
  {
   "cell_type": "markdown",
   "metadata": {},
   "source": [
    "## Data preprocessing"
   ]
  },
  {
   "cell_type": "code",
   "execution_count": 229,
   "metadata": {},
   "outputs": [
    {
     "data": {
      "text/html": [
       "<div>\n",
       "<style scoped>\n",
       "    .dataframe tbody tr th:only-of-type {\n",
       "        vertical-align: middle;\n",
       "    }\n",
       "\n",
       "    .dataframe tbody tr th {\n",
       "        vertical-align: top;\n",
       "    }\n",
       "\n",
       "    .dataframe thead th {\n",
       "        text-align: right;\n",
       "    }\n",
       "</style>\n",
       "<table border=\"1\" class=\"dataframe\">\n",
       "  <thead>\n",
       "    <tr style=\"text-align: right;\">\n",
       "      <th></th>\n",
       "      <th>Unnamed: 0</th>\n",
       "      <th>user_id</th>\n",
       "      <th>platform</th>\n",
       "      <th>reg_date</th>\n",
       "      <th>steps_date</th>\n",
       "      <th>steps</th>\n",
       "    </tr>\n",
       "  </thead>\n",
       "  <tbody>\n",
       "    <tr>\n",
       "      <th>0</th>\n",
       "      <td>0</td>\n",
       "      <td>41785284</td>\n",
       "      <td>IOS</td>\n",
       "      <td>2021-04-21</td>\n",
       "      <td>2021-04-13</td>\n",
       "      <td>458</td>\n",
       "    </tr>\n",
       "    <tr>\n",
       "      <th>1</th>\n",
       "      <td>1</td>\n",
       "      <td>41792465</td>\n",
       "      <td>IOS</td>\n",
       "      <td>2021-04-21</td>\n",
       "      <td>2021-04-13</td>\n",
       "      <td>5750</td>\n",
       "    </tr>\n",
       "    <tr>\n",
       "      <th>2</th>\n",
       "      <td>2</td>\n",
       "      <td>41494466</td>\n",
       "      <td>IOS</td>\n",
       "      <td>2021-03-28</td>\n",
       "      <td>2021-04-01</td>\n",
       "      <td>5635</td>\n",
       "    </tr>\n",
       "    <tr>\n",
       "      <th>3</th>\n",
       "      <td>3</td>\n",
       "      <td>41583452</td>\n",
       "      <td>IOS</td>\n",
       "      <td>2021-04-02</td>\n",
       "      <td>2021-04-01</td>\n",
       "      <td>1840</td>\n",
       "    </tr>\n",
       "    <tr>\n",
       "      <th>4</th>\n",
       "      <td>4</td>\n",
       "      <td>41637532</td>\n",
       "      <td>IOS</td>\n",
       "      <td>2021-04-07</td>\n",
       "      <td>2021-04-01</td>\n",
       "      <td>3127</td>\n",
       "    </tr>\n",
       "    <tr>\n",
       "      <th>...</th>\n",
       "      <td>...</td>\n",
       "      <td>...</td>\n",
       "      <td>...</td>\n",
       "      <td>...</td>\n",
       "      <td>...</td>\n",
       "      <td>...</td>\n",
       "    </tr>\n",
       "    <tr>\n",
       "      <th>81544</th>\n",
       "      <td>81544</td>\n",
       "      <td>40888496</td>\n",
       "      <td>IOS</td>\n",
       "      <td>2021-01-29</td>\n",
       "      <td>2021-02-07</td>\n",
       "      <td>350</td>\n",
       "    </tr>\n",
       "    <tr>\n",
       "      <th>81545</th>\n",
       "      <td>81545</td>\n",
       "      <td>41010128</td>\n",
       "      <td>ANDROID</td>\n",
       "      <td>2021-02-11</td>\n",
       "      <td>2021-02-07</td>\n",
       "      <td>0</td>\n",
       "    </tr>\n",
       "    <tr>\n",
       "      <th>81546</th>\n",
       "      <td>81546</td>\n",
       "      <td>40741168</td>\n",
       "      <td>IOS</td>\n",
       "      <td>2021-01-15</td>\n",
       "      <td>2021-01-02</td>\n",
       "      <td>10292</td>\n",
       "    </tr>\n",
       "    <tr>\n",
       "      <th>81547</th>\n",
       "      <td>81547</td>\n",
       "      <td>40736310</td>\n",
       "      <td>ANDROID</td>\n",
       "      <td>2021-01-15</td>\n",
       "      <td>2021-01-02</td>\n",
       "      <td>0</td>\n",
       "    </tr>\n",
       "    <tr>\n",
       "      <th>81548</th>\n",
       "      <td>81548</td>\n",
       "      <td>40748682</td>\n",
       "      <td>ANDROID</td>\n",
       "      <td>2021-01-16</td>\n",
       "      <td>2021-01-02</td>\n",
       "      <td>0</td>\n",
       "    </tr>\n",
       "  </tbody>\n",
       "</table>\n",
       "<p>81549 rows × 6 columns</p>\n",
       "</div>"
      ],
      "text/plain": [
       "       Unnamed: 0   user_id platform    reg_date  steps_date  steps\n",
       "0               0  41785284      IOS  2021-04-21  2021-04-13    458\n",
       "1               1  41792465      IOS  2021-04-21  2021-04-13   5750\n",
       "2               2  41494466      IOS  2021-03-28  2021-04-01   5635\n",
       "3               3  41583452      IOS  2021-04-02  2021-04-01   1840\n",
       "4               4  41637532      IOS  2021-04-07  2021-04-01   3127\n",
       "...           ...       ...      ...         ...         ...    ...\n",
       "81544       81544  40888496      IOS  2021-01-29  2021-02-07    350\n",
       "81545       81545  41010128  ANDROID  2021-02-11  2021-02-07      0\n",
       "81546       81546  40741168      IOS  2021-01-15  2021-01-02  10292\n",
       "81547       81547  40736310  ANDROID  2021-01-15  2021-01-02      0\n",
       "81548       81548  40748682  ANDROID  2021-01-16  2021-01-02      0\n",
       "\n",
       "[81549 rows x 6 columns]"
      ]
     },
     "execution_count": 229,
     "metadata": {},
     "output_type": "execute_result"
    }
   ],
   "source": [
    "df = pd.read_csv('test-task.csv') #file reading\n",
    "df"
   ]
  },
  {
   "cell_type": "markdown",
   "metadata": {},
   "source": [
    "#### Drop column with no useful info"
   ]
  },
  {
   "cell_type": "code",
   "execution_count": 230,
   "metadata": {},
   "outputs": [
    {
     "data": {
      "text/html": [
       "<div>\n",
       "<style scoped>\n",
       "    .dataframe tbody tr th:only-of-type {\n",
       "        vertical-align: middle;\n",
       "    }\n",
       "\n",
       "    .dataframe tbody tr th {\n",
       "        vertical-align: top;\n",
       "    }\n",
       "\n",
       "    .dataframe thead th {\n",
       "        text-align: right;\n",
       "    }\n",
       "</style>\n",
       "<table border=\"1\" class=\"dataframe\">\n",
       "  <thead>\n",
       "    <tr style=\"text-align: right;\">\n",
       "      <th></th>\n",
       "      <th>user_id</th>\n",
       "      <th>platform</th>\n",
       "      <th>reg_date</th>\n",
       "      <th>steps_date</th>\n",
       "      <th>steps</th>\n",
       "    </tr>\n",
       "  </thead>\n",
       "  <tbody>\n",
       "    <tr>\n",
       "      <th>0</th>\n",
       "      <td>41785284</td>\n",
       "      <td>IOS</td>\n",
       "      <td>2021-04-21</td>\n",
       "      <td>2021-04-13</td>\n",
       "      <td>458</td>\n",
       "    </tr>\n",
       "    <tr>\n",
       "      <th>1</th>\n",
       "      <td>41792465</td>\n",
       "      <td>IOS</td>\n",
       "      <td>2021-04-21</td>\n",
       "      <td>2021-04-13</td>\n",
       "      <td>5750</td>\n",
       "    </tr>\n",
       "    <tr>\n",
       "      <th>2</th>\n",
       "      <td>41494466</td>\n",
       "      <td>IOS</td>\n",
       "      <td>2021-03-28</td>\n",
       "      <td>2021-04-01</td>\n",
       "      <td>5635</td>\n",
       "    </tr>\n",
       "    <tr>\n",
       "      <th>3</th>\n",
       "      <td>41583452</td>\n",
       "      <td>IOS</td>\n",
       "      <td>2021-04-02</td>\n",
       "      <td>2021-04-01</td>\n",
       "      <td>1840</td>\n",
       "    </tr>\n",
       "    <tr>\n",
       "      <th>4</th>\n",
       "      <td>41637532</td>\n",
       "      <td>IOS</td>\n",
       "      <td>2021-04-07</td>\n",
       "      <td>2021-04-01</td>\n",
       "      <td>3127</td>\n",
       "    </tr>\n",
       "    <tr>\n",
       "      <th>...</th>\n",
       "      <td>...</td>\n",
       "      <td>...</td>\n",
       "      <td>...</td>\n",
       "      <td>...</td>\n",
       "      <td>...</td>\n",
       "    </tr>\n",
       "    <tr>\n",
       "      <th>81544</th>\n",
       "      <td>40888496</td>\n",
       "      <td>IOS</td>\n",
       "      <td>2021-01-29</td>\n",
       "      <td>2021-02-07</td>\n",
       "      <td>350</td>\n",
       "    </tr>\n",
       "    <tr>\n",
       "      <th>81545</th>\n",
       "      <td>41010128</td>\n",
       "      <td>ANDROID</td>\n",
       "      <td>2021-02-11</td>\n",
       "      <td>2021-02-07</td>\n",
       "      <td>0</td>\n",
       "    </tr>\n",
       "    <tr>\n",
       "      <th>81546</th>\n",
       "      <td>40741168</td>\n",
       "      <td>IOS</td>\n",
       "      <td>2021-01-15</td>\n",
       "      <td>2021-01-02</td>\n",
       "      <td>10292</td>\n",
       "    </tr>\n",
       "    <tr>\n",
       "      <th>81547</th>\n",
       "      <td>40736310</td>\n",
       "      <td>ANDROID</td>\n",
       "      <td>2021-01-15</td>\n",
       "      <td>2021-01-02</td>\n",
       "      <td>0</td>\n",
       "    </tr>\n",
       "    <tr>\n",
       "      <th>81548</th>\n",
       "      <td>40748682</td>\n",
       "      <td>ANDROID</td>\n",
       "      <td>2021-01-16</td>\n",
       "      <td>2021-01-02</td>\n",
       "      <td>0</td>\n",
       "    </tr>\n",
       "  </tbody>\n",
       "</table>\n",
       "<p>81549 rows × 5 columns</p>\n",
       "</div>"
      ],
      "text/plain": [
       "        user_id platform    reg_date  steps_date  steps\n",
       "0      41785284      IOS  2021-04-21  2021-04-13    458\n",
       "1      41792465      IOS  2021-04-21  2021-04-13   5750\n",
       "2      41494466      IOS  2021-03-28  2021-04-01   5635\n",
       "3      41583452      IOS  2021-04-02  2021-04-01   1840\n",
       "4      41637532      IOS  2021-04-07  2021-04-01   3127\n",
       "...         ...      ...         ...         ...    ...\n",
       "81544  40888496      IOS  2021-01-29  2021-02-07    350\n",
       "81545  41010128  ANDROID  2021-02-11  2021-02-07      0\n",
       "81546  40741168      IOS  2021-01-15  2021-01-02  10292\n",
       "81547  40736310  ANDROID  2021-01-15  2021-01-02      0\n",
       "81548  40748682  ANDROID  2021-01-16  2021-01-02      0\n",
       "\n",
       "[81549 rows x 5 columns]"
      ]
     },
     "execution_count": 230,
     "metadata": {},
     "output_type": "execute_result"
    }
   ],
   "source": [
    "df.drop(df.columns[0], axis=1, inplace=True) \n",
    "df"
   ]
  },
  {
   "cell_type": "markdown",
   "metadata": {},
   "source": [
    "#### Check data types"
   ]
  },
  {
   "cell_type": "code",
   "execution_count": 231,
   "metadata": {},
   "outputs": [
    {
     "data": {
      "text/plain": [
       "user_id        int64\n",
       "platform      object\n",
       "reg_date      object\n",
       "steps_date    object\n",
       "steps          int64\n",
       "dtype: object"
      ]
     },
     "execution_count": 231,
     "metadata": {},
     "output_type": "execute_result"
    }
   ],
   "source": [
    "df.dtypes"
   ]
  },
  {
   "cell_type": "code",
   "execution_count": 232,
   "metadata": {},
   "outputs": [
    {
     "data": {
      "text/plain": [
       "user_id                int64\n",
       "platform              object\n",
       "reg_date      datetime64[ns]\n",
       "steps_date    datetime64[ns]\n",
       "steps                  int64\n",
       "dtype: object"
      ]
     },
     "execution_count": 232,
     "metadata": {},
     "output_type": "execute_result"
    }
   ],
   "source": [
    "df[['reg_date', 'steps_date']] = df[['reg_date', 'steps_date']].apply(pd.to_datetime, errors='coerce') \n",
    "df.dtypes #object to datetime"
   ]
  },
  {
   "cell_type": "markdown",
   "metadata": {},
   "source": [
    "#### Check null values in the df"
   ]
  },
  {
   "cell_type": "code",
   "execution_count": 233,
   "metadata": {},
   "outputs": [
    {
     "data": {
      "text/plain": [
       "user_id         0\n",
       "platform      123\n",
       "reg_date        0\n",
       "steps_date      0\n",
       "steps           0\n",
       "dtype: int64"
      ]
     },
     "execution_count": 233,
     "metadata": {},
     "output_type": "execute_result"
    }
   ],
   "source": [
    "df.isnull().sum() "
   ]
  },
  {
   "cell_type": "markdown",
   "metadata": {},
   "source": [
    "#### Platfroms check\n",
    "- If these users have activity recorded on other dates with a specified platform and it's consistent (only one platform is used), then fill the missing platform information with that value.\n",
    "- Ensure that each user has only one platform (no duplicates or bugs)"
   ]
  },
  {
   "cell_type": "markdown",
   "metadata": {},
   "source": [
    "Missing platfroms check"
   ]
  },
  {
   "cell_type": "code",
   "execution_count": 234,
   "metadata": {},
   "outputs": [
    {
     "data": {
      "image/png": "[encoded data removed]",
      "text/plain": [
       "<Figure size 640x480 with 1 Axes>"
      ]
     },
     "metadata": {},
     "output_type": "display_data"
    }
   ],
   "source": [
    "# Check how many steps have users with missing platforms\n",
    "df.loc[df['platform'].isnull()]['steps'].hist(\n",
    "    bins=123\n",
    ")\n",
    "\n",
    "plt.title(\"Distribution of Steps for Users with Missing Platforms\", fontsize=14)\n",
    "plt.xlabel(\"Number of Steps\", fontsize=12)\n",
    "plt.ylabel(\"Frequency\", fontsize=12)\n",
    "\n",
    "plt.grid(True)\n",
    "plt.show()"
   ]
  },
  {
   "cell_type": "code",
   "execution_count": 235,
   "metadata": {},
   "outputs": [
    {
     "data": {
      "text/plain": [
       "array([41316658, 41232611, 41580994, 40971110, 41393245])"
      ]
     },
     "execution_count": 235,
     "metadata": {},
     "output_type": "execute_result"
    }
   ],
   "source": [
    "# Identify users with missing platform information\n",
    "missing_platform_users = df[df['platform'].isnull()]['user_id'].unique()\n",
    "missing_platform_users"
   ]
  },
  {
   "cell_type": "code",
   "execution_count": 236,
   "metadata": {},
   "outputs": [
    {
     "data": {
      "text/plain": [
       "array([nan], dtype=object)"
      ]
     },
     "execution_count": 236,
     "metadata": {},
     "output_type": "execute_result"
    }
   ],
   "source": [
    "# Check if they have data from other days\n",
    "missing_platform_data = df[df['user_id'].isin(missing_platform_users)]\n",
    "missing_platform_data.platform.unique()"
   ]
  },
  {
   "cell_type": "code",
   "execution_count": 237,
   "metadata": {},
   "outputs": [
    {
     "data": {
      "text/plain": [
       "user_id       0\n",
       "platform      0\n",
       "reg_date      0\n",
       "steps_date    0\n",
       "steps         0\n",
       "dtype: int64"
      ]
     },
     "execution_count": 237,
     "metadata": {},
     "output_type": "execute_result"
    }
   ],
   "source": [
    "# No such days were found, so we delete these users\n",
    "df = df.loc[df['platform'].notnull()]\n",
    "df.isnull().sum()"
   ]
  },
  {
   "cell_type": "markdown",
   "metadata": {},
   "source": [
    "Platform count check"
   ]
  },
  {
   "cell_type": "code",
   "execution_count": 238,
   "metadata": {},
   "outputs": [
    {
     "data": {
      "text/plain": [
       "Series([], Name: platform, dtype: int64)"
      ]
     },
     "execution_count": 238,
     "metadata": {},
     "output_type": "execute_result"
    }
   ],
   "source": [
    "# Check the number of unique platforms used by each user\n",
    "platform_check = df.groupby('user_id')['platform'].nunique()\n",
    "\n",
    "# Select users who have more than one unique platform\n",
    "users_with_multiple_platforms = platform_check[platform_check > 1]\n",
    "\n",
    "#Output number of users\n",
    "users_with_multiple_platforms\n",
    "\n",
    "# No such users were found"
   ]
  },
  {
   "cell_type": "markdown",
   "metadata": {},
   "source": [
    "#### Check steps distrubution\n",
    "\n",
    "It was stated that 0 bugs were acquired in this dataframe, so I remove people with 0 steps, as these users do not bring any useful info to the df"
   ]
  },
  {
   "cell_type": "code",
   "execution_count": 239,
   "metadata": {},
   "outputs": [
    {
     "data": {
      "image/png": "[encoded data removed]",
      "text/plain": [
       "<Figure size 640x480 with 1 Axes>"
      ]
     },
     "metadata": {},
     "output_type": "display_data"
    }
   ],
   "source": [
    "# Steps distribution\n",
    "df['steps'].hist(bins=50, color='gray', edgecolor='black', alpha=0.7, label='Data')\n",
    "\n",
    "plt.title(\"Distribution of Steps\", fontsize=14)\n",
    "plt.xlabel(\"Number of Steps\", fontsize=12)\n",
    "plt.ylabel(\"Frequency\", fontsize=12)\n",
    "\n",
    "plt.grid(True) \n",
    "plt.show()"
   ]
  },
  {
   "cell_type": "code",
   "execution_count": 240,
   "metadata": {},
   "outputs": [
    {
     "data": {
      "text/html": [
       "<div>\n",
       "<style scoped>\n",
       "    .dataframe tbody tr th:only-of-type {\n",
       "        vertical-align: middle;\n",
       "    }\n",
       "\n",
       "    .dataframe tbody tr th {\n",
       "        vertical-align: top;\n",
       "    }\n",
       "\n",
       "    .dataframe thead th {\n",
       "        text-align: right;\n",
       "    }\n",
       "</style>\n",
       "<table border=\"1\" class=\"dataframe\">\n",
       "  <thead>\n",
       "    <tr style=\"text-align: right;\">\n",
       "      <th></th>\n",
       "      <th>user_id</th>\n",
       "      <th>platform</th>\n",
       "      <th>reg_date</th>\n",
       "      <th>steps_date</th>\n",
       "      <th>steps</th>\n",
       "    </tr>\n",
       "  </thead>\n",
       "  <tbody>\n",
       "    <tr>\n",
       "      <th>0</th>\n",
       "      <td>41785284</td>\n",
       "      <td>IOS</td>\n",
       "      <td>2021-04-21</td>\n",
       "      <td>2021-04-13</td>\n",
       "      <td>458</td>\n",
       "    </tr>\n",
       "    <tr>\n",
       "      <th>1</th>\n",
       "      <td>41792465</td>\n",
       "      <td>IOS</td>\n",
       "      <td>2021-04-21</td>\n",
       "      <td>2021-04-13</td>\n",
       "      <td>5750</td>\n",
       "    </tr>\n",
       "    <tr>\n",
       "      <th>2</th>\n",
       "      <td>41494466</td>\n",
       "      <td>IOS</td>\n",
       "      <td>2021-03-28</td>\n",
       "      <td>2021-04-01</td>\n",
       "      <td>5635</td>\n",
       "    </tr>\n",
       "    <tr>\n",
       "      <th>3</th>\n",
       "      <td>41583452</td>\n",
       "      <td>IOS</td>\n",
       "      <td>2021-04-02</td>\n",
       "      <td>2021-04-01</td>\n",
       "      <td>1840</td>\n",
       "    </tr>\n",
       "    <tr>\n",
       "      <th>4</th>\n",
       "      <td>41637532</td>\n",
       "      <td>IOS</td>\n",
       "      <td>2021-04-07</td>\n",
       "      <td>2021-04-01</td>\n",
       "      <td>3127</td>\n",
       "    </tr>\n",
       "    <tr>\n",
       "      <th>...</th>\n",
       "      <td>...</td>\n",
       "      <td>...</td>\n",
       "      <td>...</td>\n",
       "      <td>...</td>\n",
       "      <td>...</td>\n",
       "    </tr>\n",
       "    <tr>\n",
       "      <th>81540</th>\n",
       "      <td>41108129</td>\n",
       "      <td>IOS</td>\n",
       "      <td>2021-02-22</td>\n",
       "      <td>2021-02-13</td>\n",
       "      <td>1995</td>\n",
       "    </tr>\n",
       "    <tr>\n",
       "      <th>81542</th>\n",
       "      <td>40947633</td>\n",
       "      <td>IOS</td>\n",
       "      <td>2021-02-04</td>\n",
       "      <td>2021-02-07</td>\n",
       "      <td>3646</td>\n",
       "    </tr>\n",
       "    <tr>\n",
       "      <th>81543</th>\n",
       "      <td>41057248</td>\n",
       "      <td>IOS</td>\n",
       "      <td>2021-02-16</td>\n",
       "      <td>2021-02-07</td>\n",
       "      <td>277</td>\n",
       "    </tr>\n",
       "    <tr>\n",
       "      <th>81544</th>\n",
       "      <td>40888496</td>\n",
       "      <td>IOS</td>\n",
       "      <td>2021-01-29</td>\n",
       "      <td>2021-02-07</td>\n",
       "      <td>350</td>\n",
       "    </tr>\n",
       "    <tr>\n",
       "      <th>81546</th>\n",
       "      <td>40741168</td>\n",
       "      <td>IOS</td>\n",
       "      <td>2021-01-15</td>\n",
       "      <td>2021-01-02</td>\n",
       "      <td>10292</td>\n",
       "    </tr>\n",
       "  </tbody>\n",
       "</table>\n",
       "<p>62684 rows × 5 columns</p>\n",
       "</div>"
      ],
      "text/plain": [
       "        user_id platform   reg_date steps_date  steps\n",
       "0      41785284      IOS 2021-04-21 2021-04-13    458\n",
       "1      41792465      IOS 2021-04-21 2021-04-13   5750\n",
       "2      41494466      IOS 2021-03-28 2021-04-01   5635\n",
       "3      41583452      IOS 2021-04-02 2021-04-01   1840\n",
       "4      41637532      IOS 2021-04-07 2021-04-01   3127\n",
       "...         ...      ...        ...        ...    ...\n",
       "81540  41108129      IOS 2021-02-22 2021-02-13   1995\n",
       "81542  40947633      IOS 2021-02-04 2021-02-07   3646\n",
       "81543  41057248      IOS 2021-02-16 2021-02-07    277\n",
       "81544  40888496      IOS 2021-01-29 2021-02-07    350\n",
       "81546  40741168      IOS 2021-01-15 2021-01-02  10292\n",
       "\n",
       "[62684 rows x 5 columns]"
      ]
     },
     "execution_count": 240,
     "metadata": {},
     "output_type": "execute_result"
    }
   ],
   "source": [
    "# Remove people with 0 steps\n",
    "df = df.loc[(df['steps'] > 0)]\n",
    "df"
   ]
  },
  {
   "cell_type": "code",
   "execution_count": 241,
   "metadata": {},
   "outputs": [
    {
     "data": {
      "image/png": "[encoded data removed]",
      "text/plain": [
       "<Figure size 640x480 with 1 Axes>"
      ]
     },
     "metadata": {},
     "output_type": "display_data"
    }
   ],
   "source": [
    "# Steps distribution after removing\n",
    "df['steps'].hist(bins=50, color='gray', edgecolor='black', alpha=0.7, label='Data')\n",
    "\n",
    "plt.title(\"Distribution of Steps\", fontsize=14)\n",
    "plt.xlabel(\"Number of Steps\", fontsize=12)\n",
    "plt.ylabel(\"Frequency\", fontsize=12)\n",
    "\n",
    "plt.grid(True) \n",
    "plt.show()"
   ]
  },
  {
   "cell_type": "markdown",
   "metadata": {},
   "source": [
    "Analyzing the remaining values in the steps column after data cleaning, focusing on low step counts that may still represent outliers. These low values might not provide meaningful insights for the analysis and could potentially distort the results."
   ]
  },
  {
   "cell_type": "code",
   "execution_count": 242,
   "metadata": {},
   "outputs": [
    {
     "data": {
      "text/plain": [
       "count    62684.000000\n",
       "mean      5110.909243\n",
       "std       4924.687583\n",
       "min          1.000000\n",
       "25%       1386.000000\n",
       "50%       3657.000000\n",
       "75%       7350.000000\n",
       "max      60043.000000\n",
       "Name: steps, dtype: float64"
      ]
     },
     "execution_count": 242,
     "metadata": {},
     "output_type": "execute_result"
    }
   ],
   "source": [
    "df.steps.describe()"
   ]
  },
  {
   "cell_type": "code",
   "execution_count": 243,
   "metadata": {},
   "outputs": [
    {
     "data": {
      "text/plain": [
       "np.float64(209.0)"
      ]
     },
     "execution_count": 243,
     "metadata": {},
     "output_type": "execute_result"
    }
   ],
   "source": [
    "# Remove values below 5 percentile, as it is counted as a low activity \n",
    "percentile_5 = np.percentile(df['steps'], 5)\n",
    "percentile_5"
   ]
  },
  {
   "cell_type": "code",
   "execution_count": 244,
   "metadata": {},
   "outputs": [
    {
     "data": {
      "image/png": "[encoded data removed]",
      "text/plain": [
       "<Figure size 640x480 with 1 Axes>"
      ]
     },
     "metadata": {},
     "output_type": "display_data"
    }
   ],
   "source": [
    "plt.hist(df['steps'], bins=30, color='gray', edgecolor='black', alpha=0.7, label='Data')\n",
    "\n",
    "# Percentile line\n",
    "plt.axvline(percentile_5, color='hotpink', linestyle='--', linewidth=2, label='5 percentile')\n",
    "\n",
    "plt.title('Data distribution with 5% percentile', fontsize=14)\n",
    "plt.xlabel('Values', fontsize=12)\n",
    "plt.ylabel('Frequency', fontsize=12)\n",
    "plt.legend()\n",
    "plt.grid()\n",
    "\n",
    "plt.show()"
   ]
  },
  {
   "cell_type": "code",
   "execution_count": 245,
   "metadata": {},
   "outputs": [
    {
     "name": "stdout",
     "output_type": "stream",
     "text": [
      "Percent of removed users with low activity: 4.98%\n"
     ]
    }
   ],
   "source": [
    "filtered_steps = df[(df['steps'] >= percentile_5)]\n",
    "\n",
    "# Percent of removed users with low activity\n",
    "percent_removed = 100 * (len(df) - len(filtered_steps)) / len(df)\n",
    "print(f\"Percent of removed users with low activity: {percent_removed:.2f}%\")"
   ]
  },
  {
   "cell_type": "code",
   "execution_count": 246,
   "metadata": {},
   "outputs": [],
   "source": [
    "# Remove said users\n",
    "df = df[(df['steps'] >= percentile_5)]"
   ]
  },
  {
   "cell_type": "markdown",
   "metadata": {},
   "source": [
    "#### Split activity to before and after installation of the app"
   ]
  },
  {
   "cell_type": "code",
   "execution_count": 247,
   "metadata": {},
   "outputs": [
    {
     "name": "stderr",
     "output_type": "stream",
     "text": [
      "/var/folders/cj/5yw5vpbx3w793bdrt43m_7zm0000gn/T/ipykernel_2882/227803009.py:2: SettingWithCopyWarning: \n",
      "A value is trying to be set on a copy of a slice from a DataFrame.\n",
      "Try using .loc[row_indexer,col_indexer] = value instead\n",
      "\n",
      "See the caveats in the documentation: https://pandas.pydata.org/pandas-docs/stable/user_guide/indexing.html#returning-a-view-versus-a-copy\n",
      "  df.loc[:, 'days_from_reg'] = (df['steps_date'] - df['reg_date']).dt.days\n"
     ]
    },
    {
     "data": {
      "text/html": [
       "<div>\n",
       "<style scoped>\n",
       "    .dataframe tbody tr th:only-of-type {\n",
       "        vertical-align: middle;\n",
       "    }\n",
       "\n",
       "    .dataframe tbody tr th {\n",
       "        vertical-align: top;\n",
       "    }\n",
       "\n",
       "    .dataframe thead th {\n",
       "        text-align: right;\n",
       "    }\n",
       "</style>\n",
       "<table border=\"1\" class=\"dataframe\">\n",
       "  <thead>\n",
       "    <tr style=\"text-align: right;\">\n",
       "      <th></th>\n",
       "      <th>user_id</th>\n",
       "      <th>platform</th>\n",
       "      <th>reg_date</th>\n",
       "      <th>steps_date</th>\n",
       "      <th>steps</th>\n",
       "      <th>days_from_reg</th>\n",
       "    </tr>\n",
       "  </thead>\n",
       "  <tbody>\n",
       "    <tr>\n",
       "      <th>0</th>\n",
       "      <td>41785284</td>\n",
       "      <td>IOS</td>\n",
       "      <td>2021-04-21</td>\n",
       "      <td>2021-04-13</td>\n",
       "      <td>458</td>\n",
       "      <td>-8</td>\n",
       "    </tr>\n",
       "    <tr>\n",
       "      <th>1</th>\n",
       "      <td>41792465</td>\n",
       "      <td>IOS</td>\n",
       "      <td>2021-04-21</td>\n",
       "      <td>2021-04-13</td>\n",
       "      <td>5750</td>\n",
       "      <td>-8</td>\n",
       "    </tr>\n",
       "    <tr>\n",
       "      <th>2</th>\n",
       "      <td>41494466</td>\n",
       "      <td>IOS</td>\n",
       "      <td>2021-03-28</td>\n",
       "      <td>2021-04-01</td>\n",
       "      <td>5635</td>\n",
       "      <td>4</td>\n",
       "    </tr>\n",
       "    <tr>\n",
       "      <th>3</th>\n",
       "      <td>41583452</td>\n",
       "      <td>IOS</td>\n",
       "      <td>2021-04-02</td>\n",
       "      <td>2021-04-01</td>\n",
       "      <td>1840</td>\n",
       "      <td>-1</td>\n",
       "    </tr>\n",
       "    <tr>\n",
       "      <th>4</th>\n",
       "      <td>41637532</td>\n",
       "      <td>IOS</td>\n",
       "      <td>2021-04-07</td>\n",
       "      <td>2021-04-01</td>\n",
       "      <td>3127</td>\n",
       "      <td>-6</td>\n",
       "    </tr>\n",
       "    <tr>\n",
       "      <th>...</th>\n",
       "      <td>...</td>\n",
       "      <td>...</td>\n",
       "      <td>...</td>\n",
       "      <td>...</td>\n",
       "      <td>...</td>\n",
       "      <td>...</td>\n",
       "    </tr>\n",
       "    <tr>\n",
       "      <th>81540</th>\n",
       "      <td>41108129</td>\n",
       "      <td>IOS</td>\n",
       "      <td>2021-02-22</td>\n",
       "      <td>2021-02-13</td>\n",
       "      <td>1995</td>\n",
       "      <td>-9</td>\n",
       "    </tr>\n",
       "    <tr>\n",
       "      <th>81542</th>\n",
       "      <td>40947633</td>\n",
       "      <td>IOS</td>\n",
       "      <td>2021-02-04</td>\n",
       "      <td>2021-02-07</td>\n",
       "      <td>3646</td>\n",
       "      <td>3</td>\n",
       "    </tr>\n",
       "    <tr>\n",
       "      <th>81543</th>\n",
       "      <td>41057248</td>\n",
       "      <td>IOS</td>\n",
       "      <td>2021-02-16</td>\n",
       "      <td>2021-02-07</td>\n",
       "      <td>277</td>\n",
       "      <td>-9</td>\n",
       "    </tr>\n",
       "    <tr>\n",
       "      <th>81544</th>\n",
       "      <td>40888496</td>\n",
       "      <td>IOS</td>\n",
       "      <td>2021-01-29</td>\n",
       "      <td>2021-02-07</td>\n",
       "      <td>350</td>\n",
       "      <td>9</td>\n",
       "    </tr>\n",
       "    <tr>\n",
       "      <th>81546</th>\n",
       "      <td>40741168</td>\n",
       "      <td>IOS</td>\n",
       "      <td>2021-01-15</td>\n",
       "      <td>2021-01-02</td>\n",
       "      <td>10292</td>\n",
       "      <td>-13</td>\n",
       "    </tr>\n",
       "  </tbody>\n",
       "</table>\n",
       "<p>59565 rows × 6 columns</p>\n",
       "</div>"
      ],
      "text/plain": [
       "        user_id platform   reg_date steps_date  steps  days_from_reg\n",
       "0      41785284      IOS 2021-04-21 2021-04-13    458             -8\n",
       "1      41792465      IOS 2021-04-21 2021-04-13   5750             -8\n",
       "2      41494466      IOS 2021-03-28 2021-04-01   5635              4\n",
       "3      41583452      IOS 2021-04-02 2021-04-01   1840             -1\n",
       "4      41637532      IOS 2021-04-07 2021-04-01   3127             -6\n",
       "...         ...      ...        ...        ...    ...            ...\n",
       "81540  41108129      IOS 2021-02-22 2021-02-13   1995             -9\n",
       "81542  40947633      IOS 2021-02-04 2021-02-07   3646              3\n",
       "81543  41057248      IOS 2021-02-16 2021-02-07    277             -9\n",
       "81544  40888496      IOS 2021-01-29 2021-02-07    350              9\n",
       "81546  40741168      IOS 2021-01-15 2021-01-02  10292            -13\n",
       "\n",
       "[59565 rows x 6 columns]"
      ]
     },
     "execution_count": 247,
     "metadata": {},
     "output_type": "execute_result"
    }
   ],
   "source": [
    "# Add day count before and after installation \n",
    "df.loc[:, 'days_from_reg'] = (df['steps_date'] - df['reg_date']).dt.days\n",
    "df"
   ]
  },
  {
   "cell_type": "code",
   "execution_count": 248,
   "metadata": {},
   "outputs": [
    {
     "data": {
      "text/html": [
       "<div>\n",
       "<style scoped>\n",
       "    .dataframe tbody tr th:only-of-type {\n",
       "        vertical-align: middle;\n",
       "    }\n",
       "\n",
       "    .dataframe tbody tr th {\n",
       "        vertical-align: top;\n",
       "    }\n",
       "\n",
       "    .dataframe thead th {\n",
       "        text-align: right;\n",
       "    }\n",
       "</style>\n",
       "<table border=\"1\" class=\"dataframe\">\n",
       "  <thead>\n",
       "    <tr style=\"text-align: right;\">\n",
       "      <th></th>\n",
       "      <th>user_id</th>\n",
       "      <th>platform</th>\n",
       "      <th>reg_date</th>\n",
       "      <th>steps_date</th>\n",
       "      <th>steps</th>\n",
       "      <th>days_from_reg</th>\n",
       "    </tr>\n",
       "  </thead>\n",
       "  <tbody>\n",
       "    <tr>\n",
       "      <th>0</th>\n",
       "      <td>41785284</td>\n",
       "      <td>IOS</td>\n",
       "      <td>2021-04-21</td>\n",
       "      <td>2021-04-13</td>\n",
       "      <td>458</td>\n",
       "      <td>-8</td>\n",
       "    </tr>\n",
       "    <tr>\n",
       "      <th>1</th>\n",
       "      <td>41792465</td>\n",
       "      <td>IOS</td>\n",
       "      <td>2021-04-21</td>\n",
       "      <td>2021-04-13</td>\n",
       "      <td>5750</td>\n",
       "      <td>-8</td>\n",
       "    </tr>\n",
       "    <tr>\n",
       "      <th>2</th>\n",
       "      <td>41494466</td>\n",
       "      <td>IOS</td>\n",
       "      <td>2021-03-28</td>\n",
       "      <td>2021-04-01</td>\n",
       "      <td>5635</td>\n",
       "      <td>4</td>\n",
       "    </tr>\n",
       "    <tr>\n",
       "      <th>3</th>\n",
       "      <td>41583452</td>\n",
       "      <td>IOS</td>\n",
       "      <td>2021-04-02</td>\n",
       "      <td>2021-04-01</td>\n",
       "      <td>1840</td>\n",
       "      <td>-1</td>\n",
       "    </tr>\n",
       "    <tr>\n",
       "      <th>4</th>\n",
       "      <td>41637532</td>\n",
       "      <td>IOS</td>\n",
       "      <td>2021-04-07</td>\n",
       "      <td>2021-04-01</td>\n",
       "      <td>3127</td>\n",
       "      <td>-6</td>\n",
       "    </tr>\n",
       "    <tr>\n",
       "      <th>...</th>\n",
       "      <td>...</td>\n",
       "      <td>...</td>\n",
       "      <td>...</td>\n",
       "      <td>...</td>\n",
       "      <td>...</td>\n",
       "      <td>...</td>\n",
       "    </tr>\n",
       "    <tr>\n",
       "      <th>81540</th>\n",
       "      <td>41108129</td>\n",
       "      <td>IOS</td>\n",
       "      <td>2021-02-22</td>\n",
       "      <td>2021-02-13</td>\n",
       "      <td>1995</td>\n",
       "      <td>-9</td>\n",
       "    </tr>\n",
       "    <tr>\n",
       "      <th>81542</th>\n",
       "      <td>40947633</td>\n",
       "      <td>IOS</td>\n",
       "      <td>2021-02-04</td>\n",
       "      <td>2021-02-07</td>\n",
       "      <td>3646</td>\n",
       "      <td>3</td>\n",
       "    </tr>\n",
       "    <tr>\n",
       "      <th>81543</th>\n",
       "      <td>41057248</td>\n",
       "      <td>IOS</td>\n",
       "      <td>2021-02-16</td>\n",
       "      <td>2021-02-07</td>\n",
       "      <td>277</td>\n",
       "      <td>-9</td>\n",
       "    </tr>\n",
       "    <tr>\n",
       "      <th>81544</th>\n",
       "      <td>40888496</td>\n",
       "      <td>IOS</td>\n",
       "      <td>2021-01-29</td>\n",
       "      <td>2021-02-07</td>\n",
       "      <td>350</td>\n",
       "      <td>9</td>\n",
       "    </tr>\n",
       "    <tr>\n",
       "      <th>81546</th>\n",
       "      <td>40741168</td>\n",
       "      <td>IOS</td>\n",
       "      <td>2021-01-15</td>\n",
       "      <td>2021-01-02</td>\n",
       "      <td>10292</td>\n",
       "      <td>-13</td>\n",
       "    </tr>\n",
       "  </tbody>\n",
       "</table>\n",
       "<p>59565 rows × 6 columns</p>\n",
       "</div>"
      ],
      "text/plain": [
       "        user_id platform   reg_date steps_date  steps  days_from_reg\n",
       "0      41785284      IOS 2021-04-21 2021-04-13    458             -8\n",
       "1      41792465      IOS 2021-04-21 2021-04-13   5750             -8\n",
       "2      41494466      IOS 2021-03-28 2021-04-01   5635              4\n",
       "3      41583452      IOS 2021-04-02 2021-04-01   1840             -1\n",
       "4      41637532      IOS 2021-04-07 2021-04-01   3127             -6\n",
       "...         ...      ...        ...        ...    ...            ...\n",
       "81540  41108129      IOS 2021-02-22 2021-02-13   1995             -9\n",
       "81542  40947633      IOS 2021-02-04 2021-02-07   3646              3\n",
       "81543  41057248      IOS 2021-02-16 2021-02-07    277             -9\n",
       "81544  40888496      IOS 2021-01-29 2021-02-07    350              9\n",
       "81546  40741168      IOS 2021-01-15 2021-01-02  10292            -13\n",
       "\n",
       "[59565 rows x 6 columns]"
      ]
     },
     "execution_count": 248,
     "metadata": {},
     "output_type": "execute_result"
    }
   ],
   "source": [
    "# Deep copy so that further changes will not affect the og dataframe\n",
    "df_copy = df.copy(deep=True)\n",
    "df_copy"
   ]
  },
  {
   "cell_type": "markdown",
   "metadata": {},
   "source": [
    "#### Users removal with no activity before OR after they installed the app"
   ]
  },
  {
   "cell_type": "code",
   "execution_count": 249,
   "metadata": {},
   "outputs": [
    {
     "name": "stderr",
     "output_type": "stream",
     "text": [
      "/var/folders/cj/5yw5vpbx3w793bdrt43m_7zm0000gn/T/ipykernel_2882/630872936.py:2: DeprecationWarning: DataFrameGroupBy.apply operated on the grouping columns. This behavior is deprecated, and in a future version of pandas the grouping columns will be excluded from the operation. Either pass `include_groups=False` to exclude the groupings or explicitly select the grouping columns after groupby to silence this warning.\n",
      "  valid_users = df_copy.groupby('user_id').apply(\n"
     ]
    }
   ],
   "source": [
    "# Group by user_id and check if each user has data both \"before\" and \"after\" app installation\n",
    "valid_users = df_copy.groupby('user_id').apply(\n",
    "    lambda group: (group['days_from_reg'] >= 0).any() and (group['days_from_reg'] < 0).any()\n",
    ")\n",
    "\n",
    "# Select users who have data in both periods\n",
    "valid_users = valid_users[valid_users].index\n",
    "\n",
    "# Filter the original DataFrame to keep only these users\n",
    "df_copy = df_copy[df_copy['user_id'].isin(valid_users)]"
   ]
  },
  {
   "cell_type": "code",
   "execution_count": 250,
   "metadata": {},
   "outputs": [
    {
     "data": {
      "text/html": [
       "<div>\n",
       "<style scoped>\n",
       "    .dataframe tbody tr th:only-of-type {\n",
       "        vertical-align: middle;\n",
       "    }\n",
       "\n",
       "    .dataframe tbody tr th {\n",
       "        vertical-align: top;\n",
       "    }\n",
       "\n",
       "    .dataframe thead th {\n",
       "        text-align: right;\n",
       "    }\n",
       "</style>\n",
       "<table border=\"1\" class=\"dataframe\">\n",
       "  <thead>\n",
       "    <tr style=\"text-align: right;\">\n",
       "      <th></th>\n",
       "      <th>user_id</th>\n",
       "      <th>platform</th>\n",
       "      <th>reg_date</th>\n",
       "      <th>steps_date</th>\n",
       "      <th>steps</th>\n",
       "      <th>days_from_reg</th>\n",
       "    </tr>\n",
       "  </thead>\n",
       "  <tbody>\n",
       "    <tr>\n",
       "      <th>2</th>\n",
       "      <td>41494466</td>\n",
       "      <td>IOS</td>\n",
       "      <td>2021-03-28</td>\n",
       "      <td>2021-04-01</td>\n",
       "      <td>5635</td>\n",
       "      <td>4</td>\n",
       "    </tr>\n",
       "    <tr>\n",
       "      <th>3</th>\n",
       "      <td>41583452</td>\n",
       "      <td>IOS</td>\n",
       "      <td>2021-04-02</td>\n",
       "      <td>2021-04-01</td>\n",
       "      <td>1840</td>\n",
       "      <td>-1</td>\n",
       "    </tr>\n",
       "    <tr>\n",
       "      <th>4</th>\n",
       "      <td>41637532</td>\n",
       "      <td>IOS</td>\n",
       "      <td>2021-04-07</td>\n",
       "      <td>2021-04-01</td>\n",
       "      <td>3127</td>\n",
       "      <td>-6</td>\n",
       "    </tr>\n",
       "    <tr>\n",
       "      <th>6</th>\n",
       "      <td>41574472</td>\n",
       "      <td>IOS</td>\n",
       "      <td>2021-04-01</td>\n",
       "      <td>2021-04-01</td>\n",
       "      <td>10697</td>\n",
       "      <td>0</td>\n",
       "    </tr>\n",
       "    <tr>\n",
       "      <th>7</th>\n",
       "      <td>41719379</td>\n",
       "      <td>IOS</td>\n",
       "      <td>2021-04-14</td>\n",
       "      <td>2021-04-01</td>\n",
       "      <td>2509</td>\n",
       "      <td>-13</td>\n",
       "    </tr>\n",
       "    <tr>\n",
       "      <th>...</th>\n",
       "      <td>...</td>\n",
       "      <td>...</td>\n",
       "      <td>...</td>\n",
       "      <td>...</td>\n",
       "      <td>...</td>\n",
       "      <td>...</td>\n",
       "    </tr>\n",
       "    <tr>\n",
       "      <th>81533</th>\n",
       "      <td>40902702</td>\n",
       "      <td>IOS</td>\n",
       "      <td>2021-01-30</td>\n",
       "      <td>2021-02-04</td>\n",
       "      <td>1001</td>\n",
       "      <td>5</td>\n",
       "    </tr>\n",
       "    <tr>\n",
       "      <th>81540</th>\n",
       "      <td>41108129</td>\n",
       "      <td>IOS</td>\n",
       "      <td>2021-02-22</td>\n",
       "      <td>2021-02-13</td>\n",
       "      <td>1995</td>\n",
       "      <td>-9</td>\n",
       "    </tr>\n",
       "    <tr>\n",
       "      <th>81543</th>\n",
       "      <td>41057248</td>\n",
       "      <td>IOS</td>\n",
       "      <td>2021-02-16</td>\n",
       "      <td>2021-02-07</td>\n",
       "      <td>277</td>\n",
       "      <td>-9</td>\n",
       "    </tr>\n",
       "    <tr>\n",
       "      <th>81544</th>\n",
       "      <td>40888496</td>\n",
       "      <td>IOS</td>\n",
       "      <td>2021-01-29</td>\n",
       "      <td>2021-02-07</td>\n",
       "      <td>350</td>\n",
       "      <td>9</td>\n",
       "    </tr>\n",
       "    <tr>\n",
       "      <th>81546</th>\n",
       "      <td>40741168</td>\n",
       "      <td>IOS</td>\n",
       "      <td>2021-01-15</td>\n",
       "      <td>2021-01-02</td>\n",
       "      <td>10292</td>\n",
       "      <td>-13</td>\n",
       "    </tr>\n",
       "  </tbody>\n",
       "</table>\n",
       "<p>41491 rows × 6 columns</p>\n",
       "</div>"
      ],
      "text/plain": [
       "        user_id platform   reg_date steps_date  steps  days_from_reg\n",
       "2      41494466      IOS 2021-03-28 2021-04-01   5635              4\n",
       "3      41583452      IOS 2021-04-02 2021-04-01   1840             -1\n",
       "4      41637532      IOS 2021-04-07 2021-04-01   3127             -6\n",
       "6      41574472      IOS 2021-04-01 2021-04-01  10697              0\n",
       "7      41719379      IOS 2021-04-14 2021-04-01   2509            -13\n",
       "...         ...      ...        ...        ...    ...            ...\n",
       "81533  40902702      IOS 2021-01-30 2021-02-04   1001              5\n",
       "81540  41108129      IOS 2021-02-22 2021-02-13   1995             -9\n",
       "81543  41057248      IOS 2021-02-16 2021-02-07    277             -9\n",
       "81544  40888496      IOS 2021-01-29 2021-02-07    350              9\n",
       "81546  40741168      IOS 2021-01-15 2021-01-02  10292            -13\n",
       "\n",
       "[41491 rows x 6 columns]"
      ]
     },
     "execution_count": 250,
     "metadata": {},
     "output_type": "execute_result"
    }
   ],
   "source": [
    "df_copy"
   ]
  },
  {
   "cell_type": "code",
   "execution_count": 251,
   "metadata": {},
   "outputs": [
    {
     "name": "stderr",
     "output_type": "stream",
     "text": [
      "/var/folders/cj/5yw5vpbx3w793bdrt43m_7zm0000gn/T/ipykernel_2882/1149661057.py:2: SettingWithCopyWarning: \n",
      "A value is trying to be set on a copy of a slice from a DataFrame.\n",
      "Try using .loc[row_indexer,col_indexer] = value instead\n",
      "\n",
      "See the caveats in the documentation: https://pandas.pydata.org/pandas-docs/stable/user_guide/indexing.html#returning-a-view-versus-a-copy\n",
      "  df_copy.loc[:, 'period'] = df_copy['days_from_reg'].apply(\n"
     ]
    },
    {
     "data": {
      "text/html": [
       "<div>\n",
       "<style scoped>\n",
       "    .dataframe tbody tr th:only-of-type {\n",
       "        vertical-align: middle;\n",
       "    }\n",
       "\n",
       "    .dataframe tbody tr th {\n",
       "        vertical-align: top;\n",
       "    }\n",
       "\n",
       "    .dataframe thead th {\n",
       "        text-align: right;\n",
       "    }\n",
       "</style>\n",
       "<table border=\"1\" class=\"dataframe\">\n",
       "  <thead>\n",
       "    <tr style=\"text-align: right;\">\n",
       "      <th></th>\n",
       "      <th>user_id</th>\n",
       "      <th>platform</th>\n",
       "      <th>reg_date</th>\n",
       "      <th>steps_date</th>\n",
       "      <th>steps</th>\n",
       "      <th>days_from_reg</th>\n",
       "      <th>period</th>\n",
       "    </tr>\n",
       "  </thead>\n",
       "  <tbody>\n",
       "    <tr>\n",
       "      <th>2</th>\n",
       "      <td>41494466</td>\n",
       "      <td>IOS</td>\n",
       "      <td>2021-03-28</td>\n",
       "      <td>2021-04-01</td>\n",
       "      <td>5635</td>\n",
       "      <td>4</td>\n",
       "      <td>after</td>\n",
       "    </tr>\n",
       "    <tr>\n",
       "      <th>3</th>\n",
       "      <td>41583452</td>\n",
       "      <td>IOS</td>\n",
       "      <td>2021-04-02</td>\n",
       "      <td>2021-04-01</td>\n",
       "      <td>1840</td>\n",
       "      <td>-1</td>\n",
       "      <td>before</td>\n",
       "    </tr>\n",
       "    <tr>\n",
       "      <th>4</th>\n",
       "      <td>41637532</td>\n",
       "      <td>IOS</td>\n",
       "      <td>2021-04-07</td>\n",
       "      <td>2021-04-01</td>\n",
       "      <td>3127</td>\n",
       "      <td>-6</td>\n",
       "      <td>before</td>\n",
       "    </tr>\n",
       "    <tr>\n",
       "      <th>6</th>\n",
       "      <td>41574472</td>\n",
       "      <td>IOS</td>\n",
       "      <td>2021-04-01</td>\n",
       "      <td>2021-04-01</td>\n",
       "      <td>10697</td>\n",
       "      <td>0</td>\n",
       "      <td>after</td>\n",
       "    </tr>\n",
       "    <tr>\n",
       "      <th>7</th>\n",
       "      <td>41719379</td>\n",
       "      <td>IOS</td>\n",
       "      <td>2021-04-14</td>\n",
       "      <td>2021-04-01</td>\n",
       "      <td>2509</td>\n",
       "      <td>-13</td>\n",
       "      <td>before</td>\n",
       "    </tr>\n",
       "    <tr>\n",
       "      <th>...</th>\n",
       "      <td>...</td>\n",
       "      <td>...</td>\n",
       "      <td>...</td>\n",
       "      <td>...</td>\n",
       "      <td>...</td>\n",
       "      <td>...</td>\n",
       "      <td>...</td>\n",
       "    </tr>\n",
       "    <tr>\n",
       "      <th>81533</th>\n",
       "      <td>40902702</td>\n",
       "      <td>IOS</td>\n",
       "      <td>2021-01-30</td>\n",
       "      <td>2021-02-04</td>\n",
       "      <td>1001</td>\n",
       "      <td>5</td>\n",
       "      <td>after</td>\n",
       "    </tr>\n",
       "    <tr>\n",
       "      <th>81540</th>\n",
       "      <td>41108129</td>\n",
       "      <td>IOS</td>\n",
       "      <td>2021-02-22</td>\n",
       "      <td>2021-02-13</td>\n",
       "      <td>1995</td>\n",
       "      <td>-9</td>\n",
       "      <td>before</td>\n",
       "    </tr>\n",
       "    <tr>\n",
       "      <th>81543</th>\n",
       "      <td>41057248</td>\n",
       "      <td>IOS</td>\n",
       "      <td>2021-02-16</td>\n",
       "      <td>2021-02-07</td>\n",
       "      <td>277</td>\n",
       "      <td>-9</td>\n",
       "      <td>before</td>\n",
       "    </tr>\n",
       "    <tr>\n",
       "      <th>81544</th>\n",
       "      <td>40888496</td>\n",
       "      <td>IOS</td>\n",
       "      <td>2021-01-29</td>\n",
       "      <td>2021-02-07</td>\n",
       "      <td>350</td>\n",
       "      <td>9</td>\n",
       "      <td>after</td>\n",
       "    </tr>\n",
       "    <tr>\n",
       "      <th>81546</th>\n",
       "      <td>40741168</td>\n",
       "      <td>IOS</td>\n",
       "      <td>2021-01-15</td>\n",
       "      <td>2021-01-02</td>\n",
       "      <td>10292</td>\n",
       "      <td>-13</td>\n",
       "      <td>before</td>\n",
       "    </tr>\n",
       "  </tbody>\n",
       "</table>\n",
       "<p>41491 rows × 7 columns</p>\n",
       "</div>"
      ],
      "text/plain": [
       "        user_id platform   reg_date steps_date  steps  days_from_reg  period\n",
       "2      41494466      IOS 2021-03-28 2021-04-01   5635              4   after\n",
       "3      41583452      IOS 2021-04-02 2021-04-01   1840             -1  before\n",
       "4      41637532      IOS 2021-04-07 2021-04-01   3127             -6  before\n",
       "6      41574472      IOS 2021-04-01 2021-04-01  10697              0   after\n",
       "7      41719379      IOS 2021-04-14 2021-04-01   2509            -13  before\n",
       "...         ...      ...        ...        ...    ...            ...     ...\n",
       "81533  40902702      IOS 2021-01-30 2021-02-04   1001              5   after\n",
       "81540  41108129      IOS 2021-02-22 2021-02-13   1995             -9  before\n",
       "81543  41057248      IOS 2021-02-16 2021-02-07    277             -9  before\n",
       "81544  40888496      IOS 2021-01-29 2021-02-07    350              9   after\n",
       "81546  40741168      IOS 2021-01-15 2021-01-02  10292            -13  before\n",
       "\n",
       "[41491 rows x 7 columns]"
      ]
     },
     "execution_count": 251,
     "metadata": {},
     "output_type": "execute_result"
    }
   ],
   "source": [
    "# Add categorical label before\\after to users in the dataset\n",
    "df_copy.loc[:, 'period'] = df_copy['days_from_reg'].apply(\n",
    "    lambda x: 'after' if x >= 0 else 'before'\n",
    ")\n",
    "\n",
    "df_copy"
   ]
  },
  {
   "cell_type": "code",
   "execution_count": 252,
   "metadata": {},
   "outputs": [
    {
     "data": {
      "image/png": "[encoded data removed]",
      "text/plain": [
       "<Figure size 640x480 with 1 Axes>"
      ]
     },
     "metadata": {},
     "output_type": "display_data"
    }
   ],
   "source": [
    "# Count the number of unique 'steps_date' for each user\n",
    "\n",
    "user_step_counts = df_copy.groupby('user_id')['steps_date'].nunique()\n",
    "plt.hist(user_step_counts, bins=30, color='gray', edgecolor='black', alpha=0.7)\n",
    "plt.title(\"Distribution of Step Count Days per User\", fontsize=14)\n",
    "plt.xlabel(\"Number of Step Count Days\", fontsize=12)\n",
    "plt.ylabel(\"Number of Users\", fontsize=12)\n",
    "plt.grid(True)\n",
    "plt.show()"
   ]
  },
  {
   "cell_type": "markdown",
   "metadata": {},
   "source": [
    "#### Check dates when users walked \n",
    "We don't have activity from every day from users, some records are missed (like in total it can be not 28 days, but 20 or so), so we check for weekdays/weekends distribution.\n",
    "\n",
    "As on the weekends activity can be increased => it leads to more biased activity "
   ]
  },
  {
   "cell_type": "code",
   "execution_count": 253,
   "metadata": {},
   "outputs": [
    {
     "name": "stderr",
     "output_type": "stream",
     "text": [
      "/var/folders/cj/5yw5vpbx3w793bdrt43m_7zm0000gn/T/ipykernel_2882/725543980.py:2: SettingWithCopyWarning: \n",
      "A value is trying to be set on a copy of a slice from a DataFrame.\n",
      "Try using .loc[row_indexer,col_indexer] = value instead\n",
      "\n",
      "See the caveats in the documentation: https://pandas.pydata.org/pandas-docs/stable/user_guide/indexing.html#returning-a-view-versus-a-copy\n",
      "  df_copy.loc[:, 'weekday'] = df_copy['steps_date'].dt.weekday  # Monday = 0, Sunday = 6\n",
      "/var/folders/cj/5yw5vpbx3w793bdrt43m_7zm0000gn/T/ipykernel_2882/725543980.py:5: SettingWithCopyWarning: \n",
      "A value is trying to be set on a copy of a slice from a DataFrame.\n",
      "Try using .loc[row_indexer,col_indexer] = value instead\n",
      "\n",
      "See the caveats in the documentation: https://pandas.pydata.org/pandas-docs/stable/user_guide/indexing.html#returning-a-view-versus-a-copy\n",
      "  df_copy.loc[:, 'day_type'] = df_copy['weekday'].apply(lambda x: 'Weekdays' if x < 5 else 'Weekends')\n"
     ]
    }
   ],
   "source": [
    "# Add a weekday column\n",
    "df_copy.loc[:, 'weekday'] = df_copy['steps_date'].dt.weekday  # Monday = 0, Sunday = 6\n",
    "\n",
    "# Add a \"day_type\" column to classify weekdays and weekends\n",
    "df_copy.loc[:, 'day_type'] = df_copy['weekday'].apply(lambda x: 'Weekdays' if x < 5 else 'Weekends')\n",
    "\n",
    "# Group by period (before/after) and day_type (Weekdays/Weekends)\n",
    "day_type_distribution = df_copy.groupby(['period', 'day_type'])['steps'].count().unstack()\n",
    "\n",
    "# Calculate the percentage distribution within each period\n",
    "day_type_percentages = day_type_distribution.div(day_type_distribution.sum(axis=1), axis=0) * 100"
   ]
  },
  {
   "cell_type": "code",
   "execution_count": 254,
   "metadata": {},
   "outputs": [
    {
     "data": {
      "image/png": "[encoded data removed]",
      "text/plain": [
       "<Figure size 800x500 with 1 Axes>"
      ]
     },
     "metadata": {},
     "output_type": "display_data"
    }
   ],
   "source": [
    "ax = day_type_percentages.plot(\n",
    "    kind='bar', stacked=True, color=['hotpink', 'gray'], edgecolor='black', figsize=(8, 5)\n",
    ")\n",
    "\n",
    "plt.title(\"Step Count Distribution: Weekdays vs. Weekends (Before/After)\", fontsize=14)\n",
    "plt.xlabel(\"Period\", fontsize=12)\n",
    "plt.ylabel(\"Percentage of Step Records\", fontsize=12)\n",
    "plt.legend(title=\"Day Type\")\n",
    "plt.grid(axis='y', alpha=0.5)\n",
    "\n",
    "# Annotate percentages on the bars\n",
    "for i, bar_group in enumerate(ax.containers):\n",
    "    for bar in bar_group:\n",
    "        height = bar.get_height()\n",
    "        if height > 0:\n",
    "            ax.text(\n",
    "                bar.get_x() + bar.get_width() / 2,\n",
    "                bar.get_y() + height / 2,\n",
    "                f\"{height:.1f}%\",\n",
    "                ha='center',\n",
    "                va='center',\n",
    "                fontsize=10,\n",
    "                color='white',\n",
    "                weight='bold'\n",
    "            )\n",
    "\n",
    "plt.show()"
   ]
  },
  {
   "cell_type": "markdown",
   "metadata": {},
   "source": [
    "Since the weekday-to-weekend ratio is consistent between the before and after periods, we reasonably conclude that step counts were collected under similar day-type conditions. \n",
    "\n",
    "However, some users can have activity before only on weekdays and after only on weekends. So it can be unreasonable to compare those users, as activity on the weekend is most likely will be increased due to more free time. I sudgest to leave only those users, who have activity before and after on both weekdays and weekends. \n",
    "\n",
    "Count mean value of the steps in this periods"
   ]
  },
  {
   "cell_type": "code",
   "execution_count": 255,
   "metadata": {},
   "outputs": [
    {
     "data": {
      "text/html": [
       "<div>\n",
       "<style scoped>\n",
       "    .dataframe tbody tr th:only-of-type {\n",
       "        vertical-align: middle;\n",
       "    }\n",
       "\n",
       "    .dataframe tbody tr th {\n",
       "        vertical-align: top;\n",
       "    }\n",
       "\n",
       "    .dataframe thead th {\n",
       "        text-align: right;\n",
       "    }\n",
       "</style>\n",
       "<table border=\"1\" class=\"dataframe\">\n",
       "  <thead>\n",
       "    <tr style=\"text-align: right;\">\n",
       "      <th></th>\n",
       "      <th>user_id</th>\n",
       "      <th>Weekdays_after</th>\n",
       "      <th>Weekdays_before</th>\n",
       "      <th>Weekends_after</th>\n",
       "      <th>Weekends_before</th>\n",
       "    </tr>\n",
       "  </thead>\n",
       "  <tbody>\n",
       "    <tr>\n",
       "      <th>0</th>\n",
       "      <td>19161801</td>\n",
       "      <td>6624.80</td>\n",
       "      <td>3468.20</td>\n",
       "      <td>7890.50</td>\n",
       "      <td>2003.00</td>\n",
       "    </tr>\n",
       "    <tr>\n",
       "      <th>1</th>\n",
       "      <td>20395818</td>\n",
       "      <td>474.25</td>\n",
       "      <td>1313.10</td>\n",
       "      <td>386.00</td>\n",
       "      <td>308.00</td>\n",
       "    </tr>\n",
       "    <tr>\n",
       "      <th>2</th>\n",
       "      <td>39957739</td>\n",
       "      <td>1138.43</td>\n",
       "      <td>1077.11</td>\n",
       "      <td>1164.75</td>\n",
       "      <td>579.75</td>\n",
       "    </tr>\n",
       "    <tr>\n",
       "      <th>4</th>\n",
       "      <td>40572583</td>\n",
       "      <td>2812.70</td>\n",
       "      <td>3341.78</td>\n",
       "      <td>2545.00</td>\n",
       "      <td>2641.50</td>\n",
       "    </tr>\n",
       "    <tr>\n",
       "      <th>6</th>\n",
       "      <td>40735506</td>\n",
       "      <td>874.60</td>\n",
       "      <td>1185.20</td>\n",
       "      <td>1034.75</td>\n",
       "      <td>1237.25</td>\n",
       "    </tr>\n",
       "    <tr>\n",
       "      <th>...</th>\n",
       "      <td>...</td>\n",
       "      <td>...</td>\n",
       "      <td>...</td>\n",
       "      <td>...</td>\n",
       "      <td>...</td>\n",
       "    </tr>\n",
       "    <tr>\n",
       "      <th>1748</th>\n",
       "      <td>41758248</td>\n",
       "      <td>12543.00</td>\n",
       "      <td>8454.10</td>\n",
       "      <td>5642.00</td>\n",
       "      <td>5671.25</td>\n",
       "    </tr>\n",
       "    <tr>\n",
       "      <th>1749</th>\n",
       "      <td>41758267</td>\n",
       "      <td>5185.50</td>\n",
       "      <td>10990.40</td>\n",
       "      <td>3701.00</td>\n",
       "      <td>11863.50</td>\n",
       "    </tr>\n",
       "    <tr>\n",
       "      <th>1750</th>\n",
       "      <td>41758796</td>\n",
       "      <td>15627.33</td>\n",
       "      <td>13269.50</td>\n",
       "      <td>14514.00</td>\n",
       "      <td>16732.00</td>\n",
       "    </tr>\n",
       "    <tr>\n",
       "      <th>1752</th>\n",
       "      <td>41759233</td>\n",
       "      <td>3171.67</td>\n",
       "      <td>5250.20</td>\n",
       "      <td>3542.00</td>\n",
       "      <td>5857.75</td>\n",
       "    </tr>\n",
       "    <tr>\n",
       "      <th>1753</th>\n",
       "      <td>41760122</td>\n",
       "      <td>6514.00</td>\n",
       "      <td>9086.30</td>\n",
       "      <td>7419.00</td>\n",
       "      <td>8967.75</td>\n",
       "    </tr>\n",
       "  </tbody>\n",
       "</table>\n",
       "<p>1495 rows × 5 columns</p>\n",
       "</div>"
      ],
      "text/plain": [
       "       user_id  Weekdays_after  Weekdays_before  Weekends_after  \\\n",
       "0     19161801         6624.80          3468.20         7890.50   \n",
       "1     20395818          474.25          1313.10          386.00   \n",
       "2     39957739         1138.43          1077.11         1164.75   \n",
       "4     40572583         2812.70          3341.78         2545.00   \n",
       "6     40735506          874.60          1185.20         1034.75   \n",
       "...        ...             ...              ...             ...   \n",
       "1748  41758248        12543.00          8454.10         5642.00   \n",
       "1749  41758267         5185.50         10990.40         3701.00   \n",
       "1750  41758796        15627.33         13269.50        14514.00   \n",
       "1752  41759233         3171.67          5250.20         3542.00   \n",
       "1753  41760122         6514.00          9086.30         7419.00   \n",
       "\n",
       "      Weekends_before  \n",
       "0             2003.00  \n",
       "1              308.00  \n",
       "2              579.75  \n",
       "4             2641.50  \n",
       "6             1237.25  \n",
       "...               ...  \n",
       "1748          5671.25  \n",
       "1749         11863.50  \n",
       "1750         16732.00  \n",
       "1752          5857.75  \n",
       "1753          8967.75  \n",
       "\n",
       "[1495 rows x 5 columns]"
      ]
     },
     "execution_count": 255,
     "metadata": {},
     "output_type": "execute_result"
    }
   ],
   "source": [
    "# Group by user_id, period (before/after), and day_type (Weekdays/Weekends)\n",
    "summary = df_copy.groupby(['user_id', 'period', 'day_type'])['steps'].mean().unstack()\n",
    "\n",
    "# Reset index\n",
    "summary = summary.reset_index()\n",
    "summary.columns.name = None\n",
    "\n",
    "# Create a pivot table \n",
    "pivot_summary = summary.pivot(index='user_id', columns='period', values=['Weekdays', 'Weekends']).round(2)\n",
    "\n",
    "# Remove the multi-level column names\n",
    "pivot_summary.columns = ['_'.join(col).strip() for col in pivot_summary.columns.values]\n",
    "\n",
    "# Reset index\n",
    "pivot_summary = pivot_summary.reset_index()\n",
    "\n",
    "# Display the resulting pivot table with no NaN values in the same pariod before/after\n",
    "pivot_summary = pivot_summary[\n",
    "    ~(\n",
    "        (pivot_summary['Weekdays_after'].isna() & pivot_summary['Weekends_after'].notna()) |\n",
    "        (pivot_summary['Weekdays_before'].isna() & pivot_summary['Weekends_before'].notna()) |\n",
    "        (pivot_summary['Weekdays_after'].notna() & pivot_summary['Weekends_after'].isna()) |\n",
    "        (pivot_summary['Weekdays_before'].notna() & pivot_summary['Weekends_before'].isna())\n",
    "    )\n",
    "]\n",
    "\n",
    "# Display the cleaned pivot table\n",
    "pivot_summary\n",
    "\n"
   ]
  },
  {
   "cell_type": "code",
   "execution_count": 256,
   "metadata": {},
   "outputs": [
    {
     "data": {
      "text/html": [
       "<div>\n",
       "<style scoped>\n",
       "    .dataframe tbody tr th:only-of-type {\n",
       "        vertical-align: middle;\n",
       "    }\n",
       "\n",
       "    .dataframe tbody tr th {\n",
       "        vertical-align: top;\n",
       "    }\n",
       "\n",
       "    .dataframe thead th {\n",
       "        text-align: right;\n",
       "    }\n",
       "</style>\n",
       "<table border=\"1\" class=\"dataframe\">\n",
       "  <thead>\n",
       "    <tr style=\"text-align: right;\">\n",
       "      <th></th>\n",
       "      <th>user_id</th>\n",
       "      <th>Weekdays_after</th>\n",
       "      <th>Weekdays_before</th>\n",
       "      <th>Weekends_after</th>\n",
       "      <th>Weekends_before</th>\n",
       "      <th>platform</th>\n",
       "      <th>Weekdays_difference</th>\n",
       "      <th>Weekends_difference</th>\n",
       "    </tr>\n",
       "  </thead>\n",
       "  <tbody>\n",
       "    <tr>\n",
       "      <th>0</th>\n",
       "      <td>19161801</td>\n",
       "      <td>6624.80</td>\n",
       "      <td>3468.20</td>\n",
       "      <td>7890.50</td>\n",
       "      <td>2003.00</td>\n",
       "      <td>IOS</td>\n",
       "      <td>3156.60</td>\n",
       "      <td>5887.50</td>\n",
       "    </tr>\n",
       "    <tr>\n",
       "      <th>1</th>\n",
       "      <td>20395818</td>\n",
       "      <td>474.25</td>\n",
       "      <td>1313.10</td>\n",
       "      <td>386.00</td>\n",
       "      <td>308.00</td>\n",
       "      <td>IOS</td>\n",
       "      <td>-838.85</td>\n",
       "      <td>78.00</td>\n",
       "    </tr>\n",
       "    <tr>\n",
       "      <th>2</th>\n",
       "      <td>39957739</td>\n",
       "      <td>1138.43</td>\n",
       "      <td>1077.11</td>\n",
       "      <td>1164.75</td>\n",
       "      <td>579.75</td>\n",
       "      <td>IOS</td>\n",
       "      <td>61.32</td>\n",
       "      <td>585.00</td>\n",
       "    </tr>\n",
       "    <tr>\n",
       "      <th>3</th>\n",
       "      <td>40572583</td>\n",
       "      <td>2812.70</td>\n",
       "      <td>3341.78</td>\n",
       "      <td>2545.00</td>\n",
       "      <td>2641.50</td>\n",
       "      <td>IOS</td>\n",
       "      <td>-529.08</td>\n",
       "      <td>-96.50</td>\n",
       "    </tr>\n",
       "    <tr>\n",
       "      <th>4</th>\n",
       "      <td>40735506</td>\n",
       "      <td>874.60</td>\n",
       "      <td>1185.20</td>\n",
       "      <td>1034.75</td>\n",
       "      <td>1237.25</td>\n",
       "      <td>IOS</td>\n",
       "      <td>-310.60</td>\n",
       "      <td>-202.50</td>\n",
       "    </tr>\n",
       "    <tr>\n",
       "      <th>...</th>\n",
       "      <td>...</td>\n",
       "      <td>...</td>\n",
       "      <td>...</td>\n",
       "      <td>...</td>\n",
       "      <td>...</td>\n",
       "      <td>...</td>\n",
       "      <td>...</td>\n",
       "      <td>...</td>\n",
       "    </tr>\n",
       "    <tr>\n",
       "      <th>1490</th>\n",
       "      <td>41758248</td>\n",
       "      <td>12543.00</td>\n",
       "      <td>8454.10</td>\n",
       "      <td>5642.00</td>\n",
       "      <td>5671.25</td>\n",
       "      <td>IOS</td>\n",
       "      <td>4088.90</td>\n",
       "      <td>-29.25</td>\n",
       "    </tr>\n",
       "    <tr>\n",
       "      <th>1491</th>\n",
       "      <td>41758267</td>\n",
       "      <td>5185.50</td>\n",
       "      <td>10990.40</td>\n",
       "      <td>3701.00</td>\n",
       "      <td>11863.50</td>\n",
       "      <td>IOS</td>\n",
       "      <td>-5804.90</td>\n",
       "      <td>-8162.50</td>\n",
       "    </tr>\n",
       "    <tr>\n",
       "      <th>1492</th>\n",
       "      <td>41758796</td>\n",
       "      <td>15627.33</td>\n",
       "      <td>13269.50</td>\n",
       "      <td>14514.00</td>\n",
       "      <td>16732.00</td>\n",
       "      <td>IOS</td>\n",
       "      <td>2357.83</td>\n",
       "      <td>-2218.00</td>\n",
       "    </tr>\n",
       "    <tr>\n",
       "      <th>1493</th>\n",
       "      <td>41759233</td>\n",
       "      <td>3171.67</td>\n",
       "      <td>5250.20</td>\n",
       "      <td>3542.00</td>\n",
       "      <td>5857.75</td>\n",
       "      <td>IOS</td>\n",
       "      <td>-2078.53</td>\n",
       "      <td>-2315.75</td>\n",
       "    </tr>\n",
       "    <tr>\n",
       "      <th>1494</th>\n",
       "      <td>41760122</td>\n",
       "      <td>6514.00</td>\n",
       "      <td>9086.30</td>\n",
       "      <td>7419.00</td>\n",
       "      <td>8967.75</td>\n",
       "      <td>IOS</td>\n",
       "      <td>-2572.30</td>\n",
       "      <td>-1548.75</td>\n",
       "    </tr>\n",
       "  </tbody>\n",
       "</table>\n",
       "<p>1495 rows × 8 columns</p>\n",
       "</div>"
      ],
      "text/plain": [
       "       user_id  Weekdays_after  Weekdays_before  Weekends_after  \\\n",
       "0     19161801         6624.80          3468.20         7890.50   \n",
       "1     20395818          474.25          1313.10          386.00   \n",
       "2     39957739         1138.43          1077.11         1164.75   \n",
       "3     40572583         2812.70          3341.78         2545.00   \n",
       "4     40735506          874.60          1185.20         1034.75   \n",
       "...        ...             ...              ...             ...   \n",
       "1490  41758248        12543.00          8454.10         5642.00   \n",
       "1491  41758267         5185.50         10990.40         3701.00   \n",
       "1492  41758796        15627.33         13269.50        14514.00   \n",
       "1493  41759233         3171.67          5250.20         3542.00   \n",
       "1494  41760122         6514.00          9086.30         7419.00   \n",
       "\n",
       "      Weekends_before platform  Weekdays_difference  Weekends_difference  \n",
       "0             2003.00      IOS              3156.60              5887.50  \n",
       "1              308.00      IOS              -838.85                78.00  \n",
       "2              579.75      IOS                61.32               585.00  \n",
       "3             2641.50      IOS              -529.08               -96.50  \n",
       "4             1237.25      IOS              -310.60              -202.50  \n",
       "...               ...      ...                  ...                  ...  \n",
       "1490          5671.25      IOS              4088.90               -29.25  \n",
       "1491         11863.50      IOS             -5804.90             -8162.50  \n",
       "1492         16732.00      IOS              2357.83             -2218.00  \n",
       "1493          5857.75      IOS             -2078.53             -2315.75  \n",
       "1494          8967.75      IOS             -2572.30             -1548.75  \n",
       "\n",
       "[1495 rows x 8 columns]"
      ]
     },
     "execution_count": 256,
     "metadata": {},
     "output_type": "execute_result"
    }
   ],
   "source": [
    "# Platform per user\n",
    "platforms = df_copy.groupby('user_id')['platform'].first().reset_index()\n",
    "\n",
    "# Inner join for users and their platforms \n",
    "pivot_summary = pivot_summary.merge(platforms, on='user_id', how='inner')\n",
    "pivot_summary.columns.name = None\n",
    "\n",
    "# Calculate after - before\n",
    "pivot_summary['Weekdays_difference'] = pivot_summary['Weekdays_after'] - pivot_summary['Weekdays_before']\n",
    "pivot_summary['Weekends_difference'] = pivot_summary['Weekends_after'] - pivot_summary['Weekends_before']\n",
    "\n",
    "pivot_summary"
   ]
  },
  {
   "cell_type": "markdown",
   "metadata": {},
   "source": [
    "#### changes_weekdays"
   ]
  },
  {
   "cell_type": "code",
   "execution_count": 257,
   "metadata": {},
   "outputs": [
    {
     "data": {
      "image/png": "[encoded data removed]",
      "text/plain": [
       "<Figure size 1000x600 with 1 Axes>"
      ]
     },
     "metadata": {},
     "output_type": "display_data"
    }
   ],
   "source": [
    "changes_weekdays = pivot_summary['Weekdays_difference']\n",
    "\n",
    "# Create a histogram to visualize the distribution of step count changes\n",
    "plt.figure(figsize=(10, 6))\n",
    "plt.hist(changes_weekdays, bins=100, color='gray', edgecolor='black')\n",
    "\n",
    "# Add vertical lines for mean and median\n",
    "plt.axvline(changes_weekdays.mean(), color='deeppink', linestyle='--', label=f'Mean: {changes_weekdays.mean():.2f}')\n",
    "plt.axvline(changes_weekdays.median(), color='yellow', linestyle='--', label=f'Median: {changes_weekdays.median():.2f}')\n",
    "\n",
    "plt.title('Distribution of Step Count Changes After Installation [Weekdays_difference]', fontsize=14)\n",
    "plt.xlabel('Change in Step Count', fontsize=12)\n",
    "plt.ylabel('Frequency', fontsize=12)\n",
    "plt.legend()\n",
    "\n",
    "plt.grid(True)\n",
    "\n",
    "plt.show()"
   ]
  },
  {
   "cell_type": "markdown",
   "metadata": {},
   "source": [
    "Check if data for difference is normally distributed"
   ]
  },
  {
   "cell_type": "code",
   "execution_count": 258,
   "metadata": {},
   "outputs": [
    {
     "name": "stdout",
     "output_type": "stream",
     "text": [
      "Shapiro-Wilk Statistic: 0.9512653575759281, P-value: 7.060574523143998e-22\n"
     ]
    }
   ],
   "source": [
    "# Perform the Shapiro-Wilk test for normality\n",
    "stat, p = shapiro(pivot_summary['Weekdays_difference'])\n",
    "print(f\"Shapiro-Wilk Statistic: {stat}, P-value: {p}\")\n",
    "\n",
    "# No, it is not normally distributed"
   ]
  },
  {
   "cell_type": "markdown",
   "metadata": {},
   "source": [
    "#### changes_weekends"
   ]
  },
  {
   "cell_type": "code",
   "execution_count": 259,
   "metadata": {},
   "outputs": [
    {
     "data": {
      "image/png": "[encoded data removed]",
      "text/plain": [
       "<Figure size 1000x600 with 1 Axes>"
      ]
     },
     "metadata": {},
     "output_type": "display_data"
    }
   ],
   "source": [
    "changes_weekends = pivot_summary['Weekends_difference']\n",
    "\n",
    "# Create a histogram to visualize the distribution of step count changes\n",
    "plt.figure(figsize=(10, 6))\n",
    "plt.hist(changes_weekends, bins=100, color='grey', edgecolor='black')\n",
    "\n",
    "# Add vertical lines for mean and median\n",
    "plt.axvline(changes_weekends.mean(), color='hotpink', linestyle='--', label=f'Mean: {changes_weekends.mean():.2f}')\n",
    "plt.axvline(changes_weekends.median(), color='yellow', linestyle='--', label=f'Median: {changes_weekends.median():.2f}')\n",
    "\n",
    "plt.title('Distribution of Step Count Changes After Installation [Weekends_difference]', fontsize=14)\n",
    "plt.xlabel('Change in Step Count', fontsize=12)\n",
    "plt.ylabel('Frequency', fontsize=12)\n",
    "plt.legend()\n",
    "\n",
    "plt.grid(True)\n",
    "\n",
    "plt.show()"
   ]
  },
  {
   "cell_type": "markdown",
   "metadata": {},
   "source": [
    "Check if data for difference is normally distributed"
   ]
  },
  {
   "cell_type": "code",
   "execution_count": 260,
   "metadata": {},
   "outputs": [
    {
     "name": "stdout",
     "output_type": "stream",
     "text": [
      "Shapiro-Wilk Statistic: 0.9540521482247781, P-value: 2.91508628854848e-21\n"
     ]
    }
   ],
   "source": [
    "# Perform the Shapiro-Wilk test for normality\n",
    "stat, p = shapiro(pivot_summary['Weekends_difference'])\n",
    "print(f\"Shapiro-Wilk Statistic: {stat}, P-value: {p}\")\n",
    "\n",
    "# No, it is not normally distributed"
   ]
  },
  {
   "cell_type": "markdown",
   "metadata": {},
   "source": [
    "## Data Analysis for all platforms"
   ]
  },
  {
   "cell_type": "markdown",
   "metadata": {},
   "source": [
    "#### Check overall imapct among all users\n",
    "- mean \n",
    "- median (as there could be days with huge activity that can affect our results)\n",
    "- percentage of users who increased activity"
   ]
  },
  {
   "cell_type": "markdown",
   "metadata": {},
   "source": [
    "#### changes_weekdays"
   ]
  },
  {
   "cell_type": "code",
   "execution_count": 261,
   "metadata": {},
   "outputs": [
    {
     "name": "stdout",
     "output_type": "stream",
     "text": [
      "Mean change: 281.03\n",
      "Median change: 244.70\n",
      "Percentage of users with increased activity: 56.32%\n"
     ]
    }
   ],
   "source": [
    "mean_change_weekdays = changes_weekdays.mean()\n",
    "median_change_weekdays = changes_weekdays.median()\n",
    "positive_changes_percentage_weekdays = (changes_weekdays > 0).sum() / len(changes_weekdays) * 100\n",
    "\n",
    "\n",
    "print(f\"Mean change: {mean_change_weekdays:.2f}\")\n",
    "print(f\"Median change: {median_change_weekdays:.2f}\")\n",
    "print(f\"Percentage of users with increased activity: {positive_changes_percentage_weekdays:.2f}%\")"
   ]
  },
  {
   "cell_type": "markdown",
   "metadata": {},
   "source": [
    "Wilcoxon test\n",
    "\n",
    "Data is not normally distributed, it samples are dependent (before/after)."
   ]
  },
  {
   "cell_type": "code",
   "execution_count": 262,
   "metadata": {},
   "outputs": [
    {
     "name": "stdout",
     "output_type": "stream",
     "text": [
      "There is a statistically significant change, P-value: 4.774484676311691e-07\n"
     ]
    }
   ],
   "source": [
    "# Perform the Wilcoxon signed-rank test\n",
    "stat, p = wilcoxon(pivot_summary['Weekdays_after'], pivot_summary['Weekdays_before'])\n",
    "\n",
    "if p < 0.05:\n",
    "    print(f\"There is a statistically significant change, P-value: {p}\")\n",
    "else:\n",
    "    print(f\"There is no statistically significant change, P-value: {p}\")"
   ]
  },
  {
   "cell_type": "markdown",
   "metadata": {},
   "source": [
    "#### changes_weekends"
   ]
  },
  {
   "cell_type": "code",
   "execution_count": 263,
   "metadata": {},
   "outputs": [
    {
     "name": "stdout",
     "output_type": "stream",
     "text": [
      "Mean change: 231.84\n",
      "Median change: 135.75\n",
      "Percentage of users with increased activity: 53.44%\n"
     ]
    }
   ],
   "source": [
    "mean_change_weekends = changes_weekends.mean()\n",
    "median_change_weekends = changes_weekends.median()\n",
    "positive_changes_percentage_weekends = (changes_weekends > 0).sum() / len(changes_weekends) * 100\n",
    "\n",
    "\n",
    "print(f\"Mean change: {mean_change_weekends:.2f}\")\n",
    "print(f\"Median change: {median_change_weekends:.2f}\")\n",
    "print(f\"Percentage of users with increased activity: {positive_changes_percentage_weekends:.2f}%\")"
   ]
  },
  {
   "cell_type": "code",
   "execution_count": 264,
   "metadata": {},
   "outputs": [
    {
     "name": "stdout",
     "output_type": "stream",
     "text": [
      "There is a statistically significant change, P-value: 0.002162997053529979\n"
     ]
    }
   ],
   "source": [
    "# Perform the Wilcoxon signed-rank test\n",
    "stat, p = wilcoxon(pivot_summary['Weekends_after'], pivot_summary['Weekends_before'])\n",
    "\n",
    "if p < 0.05:\n",
    "    print(f\"There is a statistically significant change, P-value: {p}\")\n",
    "else:\n",
    "    print(f\"There is no statistically significant change, P-value: {p}\")"
   ]
  },
  {
   "cell_type": "markdown",
   "metadata": {},
   "source": [
    "## Data Analysis by platforms\n",
    "Different platforms may have varying impacts on step count trends. If one platform dominates the dataset, it could disproportionately influence the overall results, potentially skewing conclusions about whether activity levels have increased after installation."
   ]
  },
  {
   "cell_type": "markdown",
   "metadata": {},
   "source": [
    "### android"
   ]
  },
  {
   "cell_type": "code",
   "execution_count": 265,
   "metadata": {},
   "outputs": [
    {
     "data": {
      "text/plain": [
       "(73, 8)"
      ]
     },
     "execution_count": 265,
     "metadata": {},
     "output_type": "execute_result"
    }
   ],
   "source": [
    "android_df = pivot_summary.loc[pivot_summary['platform'] == 'ANDROID']\n",
    "android_df.shape"
   ]
  },
  {
   "cell_type": "markdown",
   "metadata": {},
   "source": [
    "The total dataset for android users have only 73 participants, so as sample size is small, I calculate weekends and weekdays together."
   ]
  },
  {
   "cell_type": "code",
   "execution_count": 266,
   "metadata": {},
   "outputs": [
    {
     "data": {
      "text/html": [
       "<div>\n",
       "<style scoped>\n",
       "    .dataframe tbody tr th:only-of-type {\n",
       "        vertical-align: middle;\n",
       "    }\n",
       "\n",
       "    .dataframe tbody tr th {\n",
       "        vertical-align: top;\n",
       "    }\n",
       "\n",
       "    .dataframe thead th {\n",
       "        text-align: right;\n",
       "    }\n",
       "</style>\n",
       "<table border=\"1\" class=\"dataframe\">\n",
       "  <thead>\n",
       "    <tr style=\"text-align: right;\">\n",
       "      <th></th>\n",
       "      <th>user_id</th>\n",
       "      <th>platform</th>\n",
       "      <th>reg_date</th>\n",
       "      <th>steps_date</th>\n",
       "      <th>steps</th>\n",
       "      <th>days_from_reg</th>\n",
       "      <th>period</th>\n",
       "      <th>weekday</th>\n",
       "      <th>day_type</th>\n",
       "    </tr>\n",
       "  </thead>\n",
       "  <tbody>\n",
       "    <tr>\n",
       "      <th>18</th>\n",
       "      <td>41233528</td>\n",
       "      <td>ANDROID</td>\n",
       "      <td>2021-03-11</td>\n",
       "      <td>2021-02-27</td>\n",
       "      <td>7700</td>\n",
       "      <td>-12</td>\n",
       "      <td>before</td>\n",
       "      <td>5</td>\n",
       "      <td>Weekends</td>\n",
       "    </tr>\n",
       "    <tr>\n",
       "      <th>58</th>\n",
       "      <td>41669474</td>\n",
       "      <td>ANDROID</td>\n",
       "      <td>2021-04-10</td>\n",
       "      <td>2021-04-14</td>\n",
       "      <td>9208</td>\n",
       "      <td>4</td>\n",
       "      <td>after</td>\n",
       "      <td>2</td>\n",
       "      <td>Weekdays</td>\n",
       "    </tr>\n",
       "    <tr>\n",
       "      <th>87</th>\n",
       "      <td>41279224</td>\n",
       "      <td>ANDROID</td>\n",
       "      <td>2021-03-16</td>\n",
       "      <td>2021-03-26</td>\n",
       "      <td>1373</td>\n",
       "      <td>10</td>\n",
       "      <td>after</td>\n",
       "      <td>4</td>\n",
       "      <td>Weekdays</td>\n",
       "    </tr>\n",
       "    <tr>\n",
       "      <th>119</th>\n",
       "      <td>41206379</td>\n",
       "      <td>ANDROID</td>\n",
       "      <td>2021-03-07</td>\n",
       "      <td>2021-02-21</td>\n",
       "      <td>3417</td>\n",
       "      <td>-14</td>\n",
       "      <td>before</td>\n",
       "      <td>6</td>\n",
       "      <td>Weekends</td>\n",
       "    </tr>\n",
       "    <tr>\n",
       "      <th>123</th>\n",
       "      <td>41150562</td>\n",
       "      <td>ANDROID</td>\n",
       "      <td>2021-02-28</td>\n",
       "      <td>2021-02-21</td>\n",
       "      <td>9631</td>\n",
       "      <td>-7</td>\n",
       "      <td>before</td>\n",
       "      <td>6</td>\n",
       "      <td>Weekends</td>\n",
       "    </tr>\n",
       "    <tr>\n",
       "      <th>...</th>\n",
       "      <td>...</td>\n",
       "      <td>...</td>\n",
       "      <td>...</td>\n",
       "      <td>...</td>\n",
       "      <td>...</td>\n",
       "      <td>...</td>\n",
       "      <td>...</td>\n",
       "      <td>...</td>\n",
       "      <td>...</td>\n",
       "    </tr>\n",
       "    <tr>\n",
       "      <th>81319</th>\n",
       "      <td>41537800</td>\n",
       "      <td>ANDROID</td>\n",
       "      <td>2021-03-29</td>\n",
       "      <td>2021-03-22</td>\n",
       "      <td>5116</td>\n",
       "      <td>-7</td>\n",
       "      <td>before</td>\n",
       "      <td>0</td>\n",
       "      <td>Weekdays</td>\n",
       "    </tr>\n",
       "    <tr>\n",
       "      <th>81414</th>\n",
       "      <td>40927790</td>\n",
       "      <td>ANDROID</td>\n",
       "      <td>2021-02-02</td>\n",
       "      <td>2021-01-24</td>\n",
       "      <td>6287</td>\n",
       "      <td>-9</td>\n",
       "      <td>before</td>\n",
       "      <td>6</td>\n",
       "      <td>Weekends</td>\n",
       "    </tr>\n",
       "    <tr>\n",
       "      <th>81423</th>\n",
       "      <td>41110093</td>\n",
       "      <td>ANDROID</td>\n",
       "      <td>2021-02-22</td>\n",
       "      <td>2021-02-12</td>\n",
       "      <td>4279</td>\n",
       "      <td>-10</td>\n",
       "      <td>before</td>\n",
       "      <td>4</td>\n",
       "      <td>Weekdays</td>\n",
       "    </tr>\n",
       "    <tr>\n",
       "      <th>81468</th>\n",
       "      <td>40799290</td>\n",
       "      <td>ANDROID</td>\n",
       "      <td>2021-01-21</td>\n",
       "      <td>2021-01-08</td>\n",
       "      <td>2719</td>\n",
       "      <td>-13</td>\n",
       "      <td>before</td>\n",
       "      <td>4</td>\n",
       "      <td>Weekdays</td>\n",
       "    </tr>\n",
       "    <tr>\n",
       "      <th>81498</th>\n",
       "      <td>40616022</td>\n",
       "      <td>ANDROID</td>\n",
       "      <td>2021-01-23</td>\n",
       "      <td>2021-01-23</td>\n",
       "      <td>9687</td>\n",
       "      <td>0</td>\n",
       "      <td>after</td>\n",
       "      <td>5</td>\n",
       "      <td>Weekends</td>\n",
       "    </tr>\n",
       "  </tbody>\n",
       "</table>\n",
       "<p>2331 rows × 9 columns</p>\n",
       "</div>"
      ],
      "text/plain": [
       "        user_id platform   reg_date steps_date  steps  days_from_reg  period  \\\n",
       "18     41233528  ANDROID 2021-03-11 2021-02-27   7700            -12  before   \n",
       "58     41669474  ANDROID 2021-04-10 2021-04-14   9208              4   after   \n",
       "87     41279224  ANDROID 2021-03-16 2021-03-26   1373             10   after   \n",
       "119    41206379  ANDROID 2021-03-07 2021-02-21   3417            -14  before   \n",
       "123    41150562  ANDROID 2021-02-28 2021-02-21   9631             -7  before   \n",
       "...         ...      ...        ...        ...    ...            ...     ...   \n",
       "81319  41537800  ANDROID 2021-03-29 2021-03-22   5116             -7  before   \n",
       "81414  40927790  ANDROID 2021-02-02 2021-01-24   6287             -9  before   \n",
       "81423  41110093  ANDROID 2021-02-22 2021-02-12   4279            -10  before   \n",
       "81468  40799290  ANDROID 2021-01-21 2021-01-08   2719            -13  before   \n",
       "81498  40616022  ANDROID 2021-01-23 2021-01-23   9687              0   after   \n",
       "\n",
       "       weekday  day_type  \n",
       "18           5  Weekends  \n",
       "58           2  Weekdays  \n",
       "87           4  Weekdays  \n",
       "119          6  Weekends  \n",
       "123          6  Weekends  \n",
       "...        ...       ...  \n",
       "81319        0  Weekdays  \n",
       "81414        6  Weekends  \n",
       "81423        4  Weekdays  \n",
       "81468        4  Weekdays  \n",
       "81498        5  Weekends  \n",
       "\n",
       "[2331 rows x 9 columns]"
      ]
     },
     "execution_count": 266,
     "metadata": {},
     "output_type": "execute_result"
    }
   ],
   "source": [
    "android_df = df_copy.loc[df_copy['platform'] == 'ANDROID']\n",
    "android_df"
   ]
  },
  {
   "cell_type": "code",
   "execution_count": 267,
   "metadata": {},
   "outputs": [
    {
     "data": {
      "text/html": [
       "<div>\n",
       "<style scoped>\n",
       "    .dataframe tbody tr th:only-of-type {\n",
       "        vertical-align: middle;\n",
       "    }\n",
       "\n",
       "    .dataframe tbody tr th {\n",
       "        vertical-align: top;\n",
       "    }\n",
       "\n",
       "    .dataframe thead th {\n",
       "        text-align: right;\n",
       "    }\n",
       "</style>\n",
       "<table border=\"1\" class=\"dataframe\">\n",
       "  <thead>\n",
       "    <tr style=\"text-align: right;\">\n",
       "      <th></th>\n",
       "      <th>user_id</th>\n",
       "      <th>after</th>\n",
       "      <th>before</th>\n",
       "    </tr>\n",
       "  </thead>\n",
       "  <tbody>\n",
       "    <tr>\n",
       "      <th>0</th>\n",
       "      <td>40616022</td>\n",
       "      <td>4148.000000</td>\n",
       "      <td>698.000000</td>\n",
       "    </tr>\n",
       "    <tr>\n",
       "      <th>1</th>\n",
       "      <td>40736293</td>\n",
       "      <td>4760.214286</td>\n",
       "      <td>738.000000</td>\n",
       "    </tr>\n",
       "    <tr>\n",
       "      <th>2</th>\n",
       "      <td>40736310</td>\n",
       "      <td>9893.571429</td>\n",
       "      <td>3458.000000</td>\n",
       "    </tr>\n",
       "    <tr>\n",
       "      <th>3</th>\n",
       "      <td>40743899</td>\n",
       "      <td>2055.428571</td>\n",
       "      <td>1904.357143</td>\n",
       "    </tr>\n",
       "    <tr>\n",
       "      <th>4</th>\n",
       "      <td>40755219</td>\n",
       "      <td>4983.000000</td>\n",
       "      <td>911.000000</td>\n",
       "    </tr>\n",
       "    <tr>\n",
       "      <th>...</th>\n",
       "      <td>...</td>\n",
       "      <td>...</td>\n",
       "      <td>...</td>\n",
       "    </tr>\n",
       "    <tr>\n",
       "      <th>124</th>\n",
       "      <td>41729763</td>\n",
       "      <td>3103.857143</td>\n",
       "      <td>1808.071429</td>\n",
       "    </tr>\n",
       "    <tr>\n",
       "      <th>125</th>\n",
       "      <td>41730285</td>\n",
       "      <td>1429.600000</td>\n",
       "      <td>843.846154</td>\n",
       "    </tr>\n",
       "    <tr>\n",
       "      <th>126</th>\n",
       "      <td>41749298</td>\n",
       "      <td>3908.500000</td>\n",
       "      <td>1967.000000</td>\n",
       "    </tr>\n",
       "    <tr>\n",
       "      <th>127</th>\n",
       "      <td>41762389</td>\n",
       "      <td>2358.333333</td>\n",
       "      <td>1197.000000</td>\n",
       "    </tr>\n",
       "    <tr>\n",
       "      <th>128</th>\n",
       "      <td>41775987</td>\n",
       "      <td>3578.000000</td>\n",
       "      <td>7179.000000</td>\n",
       "    </tr>\n",
       "  </tbody>\n",
       "</table>\n",
       "<p>129 rows × 3 columns</p>\n",
       "</div>"
      ],
      "text/plain": [
       "      user_id        after       before\n",
       "0    40616022  4148.000000   698.000000\n",
       "1    40736293  4760.214286   738.000000\n",
       "2    40736310  9893.571429  3458.000000\n",
       "3    40743899  2055.428571  1904.357143\n",
       "4    40755219  4983.000000   911.000000\n",
       "..        ...          ...          ...\n",
       "124  41729763  3103.857143  1808.071429\n",
       "125  41730285  1429.600000   843.846154\n",
       "126  41749298  3908.500000  1967.000000\n",
       "127  41762389  2358.333333  1197.000000\n",
       "128  41775987  3578.000000  7179.000000\n",
       "\n",
       "[129 rows x 3 columns]"
      ]
     },
     "execution_count": 267,
     "metadata": {},
     "output_type": "execute_result"
    }
   ],
   "source": [
    "# Group by user_id, period (before/after)\n",
    "android_summary = android_df.groupby(['user_id', 'period'])['steps'].mean().unstack()\n",
    "\n",
    "# Reset index\n",
    "android_summary = android_summary.reset_index()\n",
    "android_summary.columns.name = None\n",
    "\n",
    "android_summary"
   ]
  },
  {
   "cell_type": "code",
   "execution_count": 268,
   "metadata": {},
   "outputs": [
    {
     "data": {
      "text/html": [
       "<div>\n",
       "<style scoped>\n",
       "    .dataframe tbody tr th:only-of-type {\n",
       "        vertical-align: middle;\n",
       "    }\n",
       "\n",
       "    .dataframe tbody tr th {\n",
       "        vertical-align: top;\n",
       "    }\n",
       "\n",
       "    .dataframe thead th {\n",
       "        text-align: right;\n",
       "    }\n",
       "</style>\n",
       "<table border=\"1\" class=\"dataframe\">\n",
       "  <thead>\n",
       "    <tr style=\"text-align: right;\">\n",
       "      <th></th>\n",
       "      <th>user_id</th>\n",
       "      <th>after</th>\n",
       "      <th>before</th>\n",
       "      <th>platform</th>\n",
       "      <th>difference</th>\n",
       "    </tr>\n",
       "  </thead>\n",
       "  <tbody>\n",
       "    <tr>\n",
       "      <th>0</th>\n",
       "      <td>40616022</td>\n",
       "      <td>4148.000000</td>\n",
       "      <td>698.000000</td>\n",
       "      <td>ANDROID</td>\n",
       "      <td>3450.000000</td>\n",
       "    </tr>\n",
       "    <tr>\n",
       "      <th>1</th>\n",
       "      <td>40736293</td>\n",
       "      <td>4760.214286</td>\n",
       "      <td>738.000000</td>\n",
       "      <td>ANDROID</td>\n",
       "      <td>4022.214286</td>\n",
       "    </tr>\n",
       "    <tr>\n",
       "      <th>2</th>\n",
       "      <td>40736310</td>\n",
       "      <td>9893.571429</td>\n",
       "      <td>3458.000000</td>\n",
       "      <td>ANDROID</td>\n",
       "      <td>6435.571429</td>\n",
       "    </tr>\n",
       "    <tr>\n",
       "      <th>3</th>\n",
       "      <td>40743899</td>\n",
       "      <td>2055.428571</td>\n",
       "      <td>1904.357143</td>\n",
       "      <td>ANDROID</td>\n",
       "      <td>151.071429</td>\n",
       "    </tr>\n",
       "    <tr>\n",
       "      <th>4</th>\n",
       "      <td>40755219</td>\n",
       "      <td>4983.000000</td>\n",
       "      <td>911.000000</td>\n",
       "      <td>ANDROID</td>\n",
       "      <td>4072.000000</td>\n",
       "    </tr>\n",
       "    <tr>\n",
       "      <th>...</th>\n",
       "      <td>...</td>\n",
       "      <td>...</td>\n",
       "      <td>...</td>\n",
       "      <td>...</td>\n",
       "      <td>...</td>\n",
       "    </tr>\n",
       "    <tr>\n",
       "      <th>124</th>\n",
       "      <td>41729763</td>\n",
       "      <td>3103.857143</td>\n",
       "      <td>1808.071429</td>\n",
       "      <td>ANDROID</td>\n",
       "      <td>1295.785714</td>\n",
       "    </tr>\n",
       "    <tr>\n",
       "      <th>125</th>\n",
       "      <td>41730285</td>\n",
       "      <td>1429.600000</td>\n",
       "      <td>843.846154</td>\n",
       "      <td>ANDROID</td>\n",
       "      <td>585.753846</td>\n",
       "    </tr>\n",
       "    <tr>\n",
       "      <th>126</th>\n",
       "      <td>41749298</td>\n",
       "      <td>3908.500000</td>\n",
       "      <td>1967.000000</td>\n",
       "      <td>ANDROID</td>\n",
       "      <td>1941.500000</td>\n",
       "    </tr>\n",
       "    <tr>\n",
       "      <th>127</th>\n",
       "      <td>41762389</td>\n",
       "      <td>2358.333333</td>\n",
       "      <td>1197.000000</td>\n",
       "      <td>ANDROID</td>\n",
       "      <td>1161.333333</td>\n",
       "    </tr>\n",
       "    <tr>\n",
       "      <th>128</th>\n",
       "      <td>41775987</td>\n",
       "      <td>3578.000000</td>\n",
       "      <td>7179.000000</td>\n",
       "      <td>ANDROID</td>\n",
       "      <td>-3601.000000</td>\n",
       "    </tr>\n",
       "  </tbody>\n",
       "</table>\n",
       "<p>129 rows × 5 columns</p>\n",
       "</div>"
      ],
      "text/plain": [
       "      user_id        after       before platform   difference\n",
       "0    40616022  4148.000000   698.000000  ANDROID  3450.000000\n",
       "1    40736293  4760.214286   738.000000  ANDROID  4022.214286\n",
       "2    40736310  9893.571429  3458.000000  ANDROID  6435.571429\n",
       "3    40743899  2055.428571  1904.357143  ANDROID   151.071429\n",
       "4    40755219  4983.000000   911.000000  ANDROID  4072.000000\n",
       "..        ...          ...          ...      ...          ...\n",
       "124  41729763  3103.857143  1808.071429  ANDROID  1295.785714\n",
       "125  41730285  1429.600000   843.846154  ANDROID   585.753846\n",
       "126  41749298  3908.500000  1967.000000  ANDROID  1941.500000\n",
       "127  41762389  2358.333333  1197.000000  ANDROID  1161.333333\n",
       "128  41775987  3578.000000  7179.000000  ANDROID -3601.000000\n",
       "\n",
       "[129 rows x 5 columns]"
      ]
     },
     "execution_count": 268,
     "metadata": {},
     "output_type": "execute_result"
    }
   ],
   "source": [
    "# Inner join for android users and their platforms \n",
    "android_summary = android_summary.merge(platforms, on='user_id', how='inner')\n",
    "android_summary.columns.name = None\n",
    "\n",
    "# Calculate after - before\n",
    "android_summary['difference'] = android_summary['after'] - android_summary['before']\n",
    "\n",
    "android_summary"
   ]
  },
  {
   "cell_type": "code",
   "execution_count": 269,
   "metadata": {},
   "outputs": [
    {
     "data": {
      "image/png": "[encoded data removed]",
      "text/plain": [
       "<Figure size 1000x600 with 1 Axes>"
      ]
     },
     "metadata": {},
     "output_type": "display_data"
    }
   ],
   "source": [
    "changes_android = android_summary['difference']\n",
    "\n",
    "# Create a histogram to visualize the distribution of step count changes\n",
    "plt.figure(figsize=(10, 6))\n",
    "plt.hist(changes_weekdays, bins=100, color='grey', edgecolor='black')\n",
    "\n",
    "# Add vertical lines for mean and median\n",
    "plt.axvline(changes_weekdays.mean(), color='hotpink', linestyle='--', label=f'Mean: {changes_weekdays.mean():.2f}')\n",
    "plt.axvline(changes_weekdays.median(), color='yellow', linestyle='--', label=f'Median: {changes_weekdays.median():.2f}')\n",
    "\n",
    "plt.title('Distribution of Step Count Changes After Installation for ANDROID users [difference]', fontsize=14)\n",
    "plt.xlabel('Change in Step Count', fontsize=12)\n",
    "plt.ylabel('Frequency', fontsize=12)\n",
    "plt.legend()\n",
    "\n",
    "plt.grid(True)\n",
    "\n",
    "plt.show()"
   ]
  },
  {
   "cell_type": "code",
   "execution_count": 270,
   "metadata": {},
   "outputs": [
    {
     "name": "stdout",
     "output_type": "stream",
     "text": [
      "Mean change: 928.87\n",
      "Median change: 693.14\n",
      "Percentage of users with increased activity: 65.12%\n"
     ]
    }
   ],
   "source": [
    "mean_change_a = changes_android.mean()\n",
    "median_change_a = changes_android.median()\n",
    "positive_changes_percentage_a = (changes_android > 0).sum() / len(changes_android) * 100\n",
    "\n",
    "\n",
    "print(f\"Mean change: {mean_change_a:.2f}\")\n",
    "print(f\"Median change: {median_change_a:.2f}\")\n",
    "print(f\"Percentage of users with increased activity: {positive_changes_percentage_a:.2f}%\")"
   ]
  },
  {
   "cell_type": "code",
   "execution_count": 271,
   "metadata": {},
   "outputs": [
    {
     "name": "stdout",
     "output_type": "stream",
     "text": [
      "There is a statistically significant change, P-value: 0.002162997053529979\n"
     ]
    }
   ],
   "source": [
    "# Perform the Wilcoxon signed-rank test\n",
    "stat_android, p_android = wilcoxon(android_summary['after'], android_summary['before'])\n",
    "\n",
    "if p < 0.05:\n",
    "    print(f\"There is a statistically significant change, P-value: {p}\")\n",
    "else:\n",
    "    print(f\"There is no statistically significant change, P-value: {p}\")"
   ]
  },
  {
   "cell_type": "markdown",
   "metadata": {},
   "source": [
    "### ios"
   ]
  },
  {
   "cell_type": "code",
   "execution_count": 272,
   "metadata": {},
   "outputs": [
    {
     "data": {
      "text/html": [
       "<div>\n",
       "<style scoped>\n",
       "    .dataframe tbody tr th:only-of-type {\n",
       "        vertical-align: middle;\n",
       "    }\n",
       "\n",
       "    .dataframe tbody tr th {\n",
       "        vertical-align: top;\n",
       "    }\n",
       "\n",
       "    .dataframe thead th {\n",
       "        text-align: right;\n",
       "    }\n",
       "</style>\n",
       "<table border=\"1\" class=\"dataframe\">\n",
       "  <thead>\n",
       "    <tr style=\"text-align: right;\">\n",
       "      <th></th>\n",
       "      <th>user_id</th>\n",
       "      <th>Weekdays_after</th>\n",
       "      <th>Weekdays_before</th>\n",
       "      <th>Weekends_after</th>\n",
       "      <th>Weekends_before</th>\n",
       "      <th>platform</th>\n",
       "      <th>Weekdays_difference</th>\n",
       "      <th>Weekends_difference</th>\n",
       "    </tr>\n",
       "  </thead>\n",
       "  <tbody>\n",
       "    <tr>\n",
       "      <th>0</th>\n",
       "      <td>19161801</td>\n",
       "      <td>6624.80</td>\n",
       "      <td>3468.20</td>\n",
       "      <td>7890.50</td>\n",
       "      <td>2003.00</td>\n",
       "      <td>IOS</td>\n",
       "      <td>3156.60</td>\n",
       "      <td>5887.50</td>\n",
       "    </tr>\n",
       "    <tr>\n",
       "      <th>1</th>\n",
       "      <td>20395818</td>\n",
       "      <td>474.25</td>\n",
       "      <td>1313.10</td>\n",
       "      <td>386.00</td>\n",
       "      <td>308.00</td>\n",
       "      <td>IOS</td>\n",
       "      <td>-838.85</td>\n",
       "      <td>78.00</td>\n",
       "    </tr>\n",
       "    <tr>\n",
       "      <th>2</th>\n",
       "      <td>39957739</td>\n",
       "      <td>1138.43</td>\n",
       "      <td>1077.11</td>\n",
       "      <td>1164.75</td>\n",
       "      <td>579.75</td>\n",
       "      <td>IOS</td>\n",
       "      <td>61.32</td>\n",
       "      <td>585.00</td>\n",
       "    </tr>\n",
       "    <tr>\n",
       "      <th>3</th>\n",
       "      <td>40572583</td>\n",
       "      <td>2812.70</td>\n",
       "      <td>3341.78</td>\n",
       "      <td>2545.00</td>\n",
       "      <td>2641.50</td>\n",
       "      <td>IOS</td>\n",
       "      <td>-529.08</td>\n",
       "      <td>-96.50</td>\n",
       "    </tr>\n",
       "    <tr>\n",
       "      <th>4</th>\n",
       "      <td>40735506</td>\n",
       "      <td>874.60</td>\n",
       "      <td>1185.20</td>\n",
       "      <td>1034.75</td>\n",
       "      <td>1237.25</td>\n",
       "      <td>IOS</td>\n",
       "      <td>-310.60</td>\n",
       "      <td>-202.50</td>\n",
       "    </tr>\n",
       "    <tr>\n",
       "      <th>...</th>\n",
       "      <td>...</td>\n",
       "      <td>...</td>\n",
       "      <td>...</td>\n",
       "      <td>...</td>\n",
       "      <td>...</td>\n",
       "      <td>...</td>\n",
       "      <td>...</td>\n",
       "      <td>...</td>\n",
       "    </tr>\n",
       "    <tr>\n",
       "      <th>1490</th>\n",
       "      <td>41758248</td>\n",
       "      <td>12543.00</td>\n",
       "      <td>8454.10</td>\n",
       "      <td>5642.00</td>\n",
       "      <td>5671.25</td>\n",
       "      <td>IOS</td>\n",
       "      <td>4088.90</td>\n",
       "      <td>-29.25</td>\n",
       "    </tr>\n",
       "    <tr>\n",
       "      <th>1491</th>\n",
       "      <td>41758267</td>\n",
       "      <td>5185.50</td>\n",
       "      <td>10990.40</td>\n",
       "      <td>3701.00</td>\n",
       "      <td>11863.50</td>\n",
       "      <td>IOS</td>\n",
       "      <td>-5804.90</td>\n",
       "      <td>-8162.50</td>\n",
       "    </tr>\n",
       "    <tr>\n",
       "      <th>1492</th>\n",
       "      <td>41758796</td>\n",
       "      <td>15627.33</td>\n",
       "      <td>13269.50</td>\n",
       "      <td>14514.00</td>\n",
       "      <td>16732.00</td>\n",
       "      <td>IOS</td>\n",
       "      <td>2357.83</td>\n",
       "      <td>-2218.00</td>\n",
       "    </tr>\n",
       "    <tr>\n",
       "      <th>1493</th>\n",
       "      <td>41759233</td>\n",
       "      <td>3171.67</td>\n",
       "      <td>5250.20</td>\n",
       "      <td>3542.00</td>\n",
       "      <td>5857.75</td>\n",
       "      <td>IOS</td>\n",
       "      <td>-2078.53</td>\n",
       "      <td>-2315.75</td>\n",
       "    </tr>\n",
       "    <tr>\n",
       "      <th>1494</th>\n",
       "      <td>41760122</td>\n",
       "      <td>6514.00</td>\n",
       "      <td>9086.30</td>\n",
       "      <td>7419.00</td>\n",
       "      <td>8967.75</td>\n",
       "      <td>IOS</td>\n",
       "      <td>-2572.30</td>\n",
       "      <td>-1548.75</td>\n",
       "    </tr>\n",
       "  </tbody>\n",
       "</table>\n",
       "<p>1422 rows × 8 columns</p>\n",
       "</div>"
      ],
      "text/plain": [
       "       user_id  Weekdays_after  Weekdays_before  Weekends_after  \\\n",
       "0     19161801         6624.80          3468.20         7890.50   \n",
       "1     20395818          474.25          1313.10          386.00   \n",
       "2     39957739         1138.43          1077.11         1164.75   \n",
       "3     40572583         2812.70          3341.78         2545.00   \n",
       "4     40735506          874.60          1185.20         1034.75   \n",
       "...        ...             ...              ...             ...   \n",
       "1490  41758248        12543.00          8454.10         5642.00   \n",
       "1491  41758267         5185.50         10990.40         3701.00   \n",
       "1492  41758796        15627.33         13269.50        14514.00   \n",
       "1493  41759233         3171.67          5250.20         3542.00   \n",
       "1494  41760122         6514.00          9086.30         7419.00   \n",
       "\n",
       "      Weekends_before platform  Weekdays_difference  Weekends_difference  \n",
       "0             2003.00      IOS              3156.60              5887.50  \n",
       "1              308.00      IOS              -838.85                78.00  \n",
       "2              579.75      IOS                61.32               585.00  \n",
       "3             2641.50      IOS              -529.08               -96.50  \n",
       "4             1237.25      IOS              -310.60              -202.50  \n",
       "...               ...      ...                  ...                  ...  \n",
       "1490          5671.25      IOS              4088.90               -29.25  \n",
       "1491         11863.50      IOS             -5804.90             -8162.50  \n",
       "1492         16732.00      IOS              2357.83             -2218.00  \n",
       "1493          5857.75      IOS             -2078.53             -2315.75  \n",
       "1494          8967.75      IOS             -2572.30             -1548.75  \n",
       "\n",
       "[1422 rows x 8 columns]"
      ]
     },
     "execution_count": 272,
     "metadata": {},
     "output_type": "execute_result"
    }
   ],
   "source": [
    "ios_df = pivot_summary.loc[pivot_summary['platform'] == 'IOS']\n",
    "ios_df"
   ]
  },
  {
   "cell_type": "markdown",
   "metadata": {},
   "source": [
    "#### Weekdays_difference"
   ]
  },
  {
   "cell_type": "code",
   "execution_count": 273,
   "metadata": {},
   "outputs": [
    {
     "data": {
      "image/png": "[encoded data removed]",
      "text/plain": [
       "<Figure size 1000x600 with 1 Axes>"
      ]
     },
     "metadata": {},
     "output_type": "display_data"
    }
   ],
   "source": [
    "changes_ios = ios_df['Weekdays_difference']\n",
    "\n",
    "# Create a histogram to visualize the distribution of step count changes\n",
    "plt.figure(figsize=(10, 6))\n",
    "plt.hist(changes_ios, bins=100, color='grey', edgecolor='black')\n",
    "\n",
    "# Add vertical lines for mean and median\n",
    "plt.axvline(changes_ios.mean(), color='hotpink', linestyle='--', label=f'Mean: {changes_ios.mean():.2f}')\n",
    "plt.axvline(changes_ios.median(), color='yellow', linestyle='--', label=f'Median: {changes_ios.median():.2f}')\n",
    "\n",
    "plt.title('Distribution of Step Count Changes After Installation for IOS users [Weekdays_difference]', fontsize=14)\n",
    "plt.xlabel('Change in Step Count', fontsize=12)\n",
    "plt.ylabel('Frequency', fontsize=12)\n",
    "plt.legend()\n",
    "\n",
    "plt.grid(True)\n",
    "\n",
    "plt.show()"
   ]
  },
  {
   "cell_type": "code",
   "execution_count": 274,
   "metadata": {},
   "outputs": [
    {
     "name": "stdout",
     "output_type": "stream",
     "text": [
      "Mean change: 266.67\n",
      "Median change: 240.60\n",
      "Percentage of users with increased activity: 55.91%\n"
     ]
    }
   ],
   "source": [
    "mean_change_ios = changes_ios.mean()\n",
    "median_change_ios = changes_ios.median()\n",
    "positive_changes_percentage_ios = (changes_ios > 0).sum() / len(changes_ios) * 100\n",
    "\n",
    "\n",
    "print(f\"Mean change: {mean_change_ios:.2f}\")\n",
    "print(f\"Median change: {median_change_ios:.2f}\")\n",
    "print(f\"Percentage of users with increased activity: {positive_changes_percentage_ios:.2f}%\")"
   ]
  },
  {
   "cell_type": "code",
   "execution_count": 275,
   "metadata": {},
   "outputs": [
    {
     "name": "stdout",
     "output_type": "stream",
     "text": [
      "There is a statistically significant change, P-value: 0.002162997053529979\n"
     ]
    }
   ],
   "source": [
    "# Perform the Wilcoxon signed-rank test\n",
    "stat_ios, p_ios= wilcoxon(ios_df['Weekdays_after'], ios_df['Weekdays_before'])\n",
    "\n",
    "if p < 0.05:\n",
    "    print(f\"There is a statistically significant change, P-value: {p}\")\n",
    "else:\n",
    "    print(f\"There is no statistically significant change, P-value: {p}\")"
   ]
  },
  {
   "cell_type": "markdown",
   "metadata": {},
   "source": [
    "#### Weekends_difference"
   ]
  },
  {
   "cell_type": "code",
   "execution_count": 276,
   "metadata": {},
   "outputs": [
    {
     "data": {
      "image/png": "[encoded data removed]",
      "text/plain": [
       "<Figure size 1000x600 with 1 Axes>"
      ]
     },
     "metadata": {},
     "output_type": "display_data"
    }
   ],
   "source": [
    "changes_ios = ios_df['Weekends_difference']\n",
    "\n",
    "# Create a histogram to visualize the distribution of step count changes\n",
    "plt.figure(figsize=(10, 6))\n",
    "plt.hist(changes_ios, bins=100, color='grey', edgecolor='black')\n",
    "\n",
    "# Add vertical lines for mean and median\n",
    "plt.axvline(changes_ios.mean(), color='hotpink', linestyle='--', label=f'Mean: {changes_ios.mean():.2f}')\n",
    "plt.axvline(changes_ios.median(), color='yellow', linestyle='--', label=f'Median: {changes_ios.median():.2f}')\n",
    "\n",
    "plt.title('Distribution of Step Count Changes After Installation for IOS users [Weekdays_difference]', fontsize=14)\n",
    "plt.xlabel('Change in Step Count', fontsize=12)\n",
    "plt.ylabel('Frequency', fontsize=12)\n",
    "plt.legend()\n",
    "\n",
    "plt.grid(True)\n",
    "\n",
    "plt.show()"
   ]
  },
  {
   "cell_type": "code",
   "execution_count": 277,
   "metadata": {},
   "outputs": [
    {
     "name": "stdout",
     "output_type": "stream",
     "text": [
      "Mean change: 230.95\n",
      "Median change: 147.12\n",
      "Percentage of users with increased activity: 53.38%\n"
     ]
    }
   ],
   "source": [
    "mean_change_ios = changes_ios.mean()\n",
    "median_change_ios = changes_ios.median()\n",
    "positive_changes_percentage_ios = (changes_ios > 0).sum() / len(changes_ios) * 100\n",
    "\n",
    "\n",
    "print(f\"Mean change: {mean_change_ios:.2f}\")\n",
    "print(f\"Median change: {median_change_ios:.2f}\")\n",
    "print(f\"Percentage of users with increased activity: {positive_changes_percentage_ios:.2f}%\")"
   ]
  },
  {
   "cell_type": "code",
   "execution_count": 278,
   "metadata": {},
   "outputs": [
    {
     "name": "stdout",
     "output_type": "stream",
     "text": [
      "There is a statistically significant change, P-value: 0.002162997053529979\n"
     ]
    }
   ],
   "source": [
    "# Perform the Wilcoxon signed-rank test\n",
    "stat_ios, p_ios= wilcoxon(ios_df['Weekends_after'], ios_df['Weekends_before'])\n",
    "\n",
    "if p < 0.05:\n",
    "    print(f\"There is a statistically significant change, P-value: {p}\")\n",
    "else:\n",
    "    print(f\"There is no statistically significant change, P-value: {p}\")"
   ]
  },
  {
   "cell_type": "markdown",
   "metadata": {},
   "source": [
    "## Results"
   ]
  },
  {
   "cell_type": "markdown",
   "metadata": {},
   "source": [
    "Among all platforms\n",
    "- Weekdays:\n",
    "\n",
    "1. The average increase in activity on weekdays is 281.03 steps.\n",
    "2. The median increase of 244.70 steps indicates that most users experienced a modest rise in activity levels, with the mean slightly higher, suggesting the presence of a few high-activity outliers.\n",
    "3. 56.32% of users increased their weekday activity.\n",
    "\n",
    "- Weekends:\n",
    "\n",
    "1. The average increase in activity on weekends is 231.84 steps.\n",
    "2. The median increase of 135.75 steps.\n",
    "3. 53.44% of users increased their weekend activity.\n",
    "_________________________________\n",
    "Android\n",
    "\n",
    "Amount of android users is sagnificantly lower than IOS users, so to analyse how such users behaviour it was concluded that they would be treated as one group with no splitting of weekdays and weekends. \n",
    "- Analysis showed that after installation of the app, activity was increased by 65.12%\n",
    "- Average uplift in steps is around ~950, indicating a positive shift in overall user behavior.\n",
    "- The median increase in activity is 693.14 steps, suggesting that at least half of the users increased their step count by approximately this amount. \n",
    "_________________________________\n",
    "IOS\n",
    "- Weekdays:\n",
    "\n",
    "1. The average increase in activity on weekdays is 266.67 steps, indicating a slight positive shift in user behavior during weekdays.\n",
    "2. The median increase of 240.60 steps.\n",
    "3. 55.91% of users increased their weekday activity.\n",
    "\n",
    "- Weekends:\n",
    "\n",
    "1. The average increase in activity on weekends is 230.95 steps, slightly lower than the weekday average.\n",
    "2. The median increase of 147.12 steps shows that the central trend for weekend activity changes is less pronounced compared to weekdays.\n",
    "3. 53.38% of users increased their weekend activity.\n",
    "\n",
    "_________________________________\n",
    "Wilcoxon signed-rank test was choosen as our distributions do not follow normal one (checked by Shapiro-Wilk test) and both groups are dependent. \n",
    "\n",
    "All results are statistically significant.\n",
    "\n",
    "The app has a positive impact on user activity across all platforms."
   ]
  },
  {
   "cell_type": "markdown",
   "metadata": {},
   "source": [
    "![Kitty](images.jpeg)"
   ]
  },
  {
   "cell_type": "markdown",
   "metadata": {},
   "source": []
  }
 ],
 "metadata": {
  "kernelspec": {
   "display_name": "Python 3",
   "language": "python",
   "name": "python3"
  },
  "language_info": {
   "codemirror_mode": {
    "name": "ipython",
    "version": 3
   },
   "file_extension": ".py",
   "mimetype": "text/x-python",
   "name": "python",
   "nbconvert_exporter": "python",
   "pygments_lexer": "ipython3",
   "version": "3.10.8"
  }
 },
 "nbformat": 4,
 "nbformat_minor": 2
}
